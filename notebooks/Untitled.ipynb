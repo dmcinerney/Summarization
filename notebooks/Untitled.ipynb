{
 "cells": [
  {
   "cell_type": "code",
   "execution_count": 1,
   "metadata": {},
   "outputs": [],
   "source": [
    "from gensim.models import Word2Vec\n",
    "from data import get_data, Word2VecVectorizer\n",
    "from summarize import new_model\n",
    "from utils import summarize, print_batch, get_text_triplets\n",
    "import pickle as pkl\n",
    "import matplotlib.pyplot as plt\n",
    "import parameters as p"
   ]
  },
  {
   "cell_type": "code",
   "execution_count": 2,
   "metadata": {},
   "outputs": [
    {
     "name": "stdout",
     "output_type": "stream",
     "text": [
      "reading data from data/cnn_dataset/val_processed.data\n",
      "data read, length is 13368\n"
     ]
    },
    {
     "name": "stderr",
     "output_type": "stream",
     "text": [
      "/home/jered/Documents/Projects/Summarization/data.py:79: UserWarning: To copy construct from a tensor, it is recommended to use sourceTensor.clone().detach() or sourceTensor.clone().detach().requires_grad_(True), rather than torch.tensor(sourceTensor).\n",
      "  if index >= 0 and index < len(self.word_vectors) else torch.randn(len(self.word_vectors[0]))#torch.zeros(len(self.word_vectors[0]))\n",
      "/home/jered/Documents/Projects/Summarization/model_helpers.py:148: UserWarning: To copy construct from a tensor, it is recommended to use sourceTensor.clone().detach() or sourceTensor.clone().detach().requires_grad_(True), rather than torch.tensor(sourceTensor).\n",
      "  summary=torch.tensor(self.summary),\n",
      "/home/jered/Documents/Projects/Summarization/model_helpers.py:149: UserWarning: To copy construct from a tensor, it is recommended to use sourceTensor.clone().detach() or sourceTensor.clone().detach().requires_grad_(True), rather than torch.tensor(sourceTensor).\n",
      "  summary_length=torch.tensor(self.summary_length),\n",
      "/home/jered/Documents/Projects/Summarization/model_helpers.py:150: UserWarning: To copy construct from a tensor, it is recommended to use sourceTensor.clone().detach() or sourceTensor.clone().detach().requires_grad_(True), rather than torch.tensor(sourceTensor).\n",
      "  loss_unnormalized=torch.tensor(self.loss_unnormalized),\n",
      "/home/jered/Documents/Projects/Summarization/model_helpers.py:138: UserWarning: To copy construct from a tensor, it is recommended to use sourceTensor.clone().detach() or sourceTensor.clone().detach().requires_grad_(True), rather than torch.tensor(sourceTensor).\n",
      "  length = torch.tensor(self.summary_length)\n",
      "/home/jered/Documents/Projects/Summarization/model_helpers.py:151: UserWarning: To copy construct from a tensor, it is recommended to use sourceTensor.clone().detach() or sourceTensor.clone().detach().requires_grad_(True), rather than torch.tensor(sourceTensor).\n",
      "  extras=[torch.tensor(extra) for extra in self.extras]\n"
     ]
    },
    {
     "name": "stdout",
     "output_type": "stream",
     "text": [
      "text ['<start>', 'cnn', '-rrb-', 'the', 'only', 'thing', 'crazier', 'than', 'a', 'guy', 'in', 'snowbound', 'massachusetts', 'boxing', 'up', 'the', 'powdery', 'white', 'stuff', 'and', 'offering', 'it', 'for', 'sale', 'online', '?', 'people', 'are', 'actually', 'buying', 'it', '.', 'for', '$', '89', ',', 'self-styled', 'entrepreneur', 'kyle', 'waring', 'will', 'ship', 'you', '6', 'pounds', 'of', 'boston-area', 'snow', 'in', 'an', 'insulated', 'styrofoam', 'box', '--', 'enough', 'for', '10', 'to', '15', 'snowballs', ',', 'he', 'says', '.', 'but', 'not', 'if', 'you', 'live', 'in', 'new', 'england', 'or', 'surrounding', 'states', '.', '``', 'we', 'will', 'not', 'ship', 'snow', 'to', 'any', 'states', 'in', 'the', 'northeast', '!', \"''\", 'says', 'waring', \"'s\", 'website', ',', 'shipsnowyo.com', '.', '``', 'we', \"'re\", 'in', 'the', 'business', 'of', 'expunging', 'snow', '!', \"''\", 'his', 'website', 'and', 'social', 'media', 'accounts', 'claim', 'to', 'have', 'filled', 'more', 'than', '133', 'orders', 'for', 'snow', '--', 'more', 'than', '30', 'on', 'tuesday', 'alone', ',', 'his', 'busiest', 'day', 'yet', '.', 'with', 'more', 'than', '45', 'total', 'inches', ',', 'boston', 'has', 'set', 'a', 'record', 'this', 'winter', 'for', 'the', 'snowiest', 'month', 'in', 'its', 'history', '.', 'most', 'residents', 'see', 'the', 'huge', 'piles', 'of', 'snow', 'choking', 'their', 'yards', 'and', 'sidewalks', 'as', 'a', 'nuisance', ',', 'but', 'waring', 'saw', 'an', 'opportunity', '.', 'according', 'to', 'boston.com', ',', 'it', 'all', 'started', 'a', 'few', 'weeks', 'ago', ',', 'when', 'waring', 'and', 'his', 'wife', 'were', 'shoveling', 'deep', 'snow', 'from', 'their', 'yard', 'in', 'manchester-by-the-sea', ',', 'a', 'coastal', 'suburb', 'north', 'of', 'boston', '.', 'he', 'joked', 'about', 'shipping', 'the', 'stuff', 'to', 'friends', 'and', 'family', 'in', 'warmer', 'states', ',', 'and', 'an', 'idea', 'was', 'born', '.', 'his', 'business', 'slogan', ':', '``', 'our', 'nightmare', 'is', 'your', 'dream', '!', \"''\", 'at', 'first', ',', 'shipsnowyo', 'sold', 'snow', 'packed', 'into', 'empty', '16.9-ounce', 'water', 'bottles', 'for', '$', '19.99', ',', 'but', 'the', 'snow', 'usually', 'melted', 'before', 'it', 'reached', 'its', 'destination', '.', 'so', 'this', 'week', ',', 'waring', 'began', 'shipping', 'larger', 'amounts', 'in', 'the', 'styrofoam', 'cubes', ',', 'which', 'he', 'promises', 'will', 'arrive', 'anywhere', 'in', 'the', 'u.s.', 'in', 'less', 'than', '20', 'hours', '.', 'he', 'also', 'has', 'begun', 'selling', 'a', '10-pound', 'box', 'of', 'snow', 'for', '$', '119', '.', 'many', 'of', 'his', 'customers', 'appear', 'to', 'be', 'companies', 'in', 'warm-weather', 'states', 'who', 'are', 'buying', 'the', 'snow', 'as', 'a', 'gag', ',', 'he', 'said', '.', 'whether', 'waring', 'can', 'sustain', 'his', 'gimmicky', 'venture', 'into', 'the', 'spring', 'remains', 'to', 'be', 'seen', '.', 'but', 'he', 'has', 'no', 'shortage', 'of', 'product', '.', '``', 'at', 'this', 'rate', ',', 'it', \"'s\", 'going', 'to', 'be', 'july', 'until', 'the', 'snow', 'melts', ',', \"''\", 'he', 'told', 'boston.com', '.', '``', 'but', 'i', \"'ve\", 'thought', 'about', 'taking', 'this', 'idea', 'and', 'running', 'with', 'it', 'for', 'other', 'seasonal', 'items', '.', 'maybe', 'i', \"'ll\", 'ship', 'some', 'fall', 'foliage', '.', \"''\", '<end>']\n",
      "summary reference summary ['<start>', 'a', 'man', 'in', 'suburban', 'boston', 'is', 'selling', 'snow', 'online', 'to', 'customers', 'in', 'warmer', 'states', '.', 'for', '$', '89', ',', 'he', 'will', 'ship', '6', 'pounds', 'of', 'snow', 'in', 'an', 'insulated', 'styrofoam', 'box', '.', '<end>']\n",
      "summary decoded summary ['<start>', 'kyle', 'waring', 'will', 'ship', 'you', '6', 'pounds', 'of', 'boston-area', 'snow', 'in', 'an', 'insulated', 'styrofoam', 'box', '.', 'he', 'says', 'waring', \"'s\", 'website', 'is', 'your', 'dream', '!', '.', '<end>']\n",
      "0.965786\n",
      "\n",
      "text ['<start>', 'cnn', '-rrb-', 'on', 'the', '6th', 'of', 'april', '1996', ',', 'san', 'jose', 'clash', 'and', 'dc', 'united', 'strode', 'out', 'in', 'front', 'of', '31,683', 'expectant', 'fans', 'at', 'the', 'spartan', 'stadium', 'in', 'san', 'jose', ',', 'california', '.', 'the', 'historic', 'occasion', 'was', 'the', 'first', 'ever', 'major', 'league', 'soccer', 'match', '--', 'a', 'brave', 'new', 'dawn', 'for', 'the', 'world', \"'s\", 'favorite', 'sport', 'in', 'a', 'land', 'its', 'charms', 'had', 'yet', 'to', 'conquer', '.', 'summarizing', 'the', 'action', 'for', 'espn', ',', 'commentator', 'ty', 'keough', 'eagerly', 'described', 'the', 'momentous', '``', 'birth', 'of', 'a', 'new', 'era', 'for', 'american', 'soccer', '.', \"''\", 'looking', 'back', 'at', 'footage', 'from', 'that', 'balmy', 'evening', 'now', 'it', \"'s\", 'hard', 'not', 'to', 'feel', 'a', 'certain', 'nostalgia', '.', 'baggy', 'shirts', ',', 'questionable', 'hairstyles', 'and', 'strange', 'rule', 'adaptations', 'to', 'make', 'games', 'more', 'exciting', 'were', 'all', 'part', 'of', 'the', 'formative', 'mls', 'experience', '.', 'countdown', 'clocks', 'were', 'employed', 'to', 'provide', 'drama', 'at', 'the', 'end', 'of', 'each', 'half', '.', 'even', 'more', 'bizarrely', ',', 'tied', 'games', 'were', 'settled', 'by', 'shootouts', 'that', 'saw', 'attacking', 'players', 'run', 'with', 'the', 'ball', 'from', '35-yards', 'out', 'before', 'attempting', 'to', 'beat', 'the', 'opposing', 'goalkeeper', '.', 'as', 'the', 'mls', 'prepares', 'to', 'mark', 'the', 'beginning', 'of', 'its', '20th', 'season', ',', 'it', \"'s\", 'hard', 'to', 'comprehend', 'just', 'how', 'much', 'the', 'league', 'has', 'progressed', 'in', 'the', 'intervening', 'period', '.', 'long', 'gone', 'is', 'the', 'desire', 'to', 'tamper', 'with', 'the', 'rules', 'of', 'the', 'game', 'for', 'a', 'start', '.', 'attendances', 'are', 'higher', 'than', 'ever', 'before', 'while', 'the', 'number', 'of', 'teams', 'involved', 'has', 'doubled', 'from', '10', 'in', 'the', '1996', 'campaign', 'to', '20', 'in', '2015', '.', 'a', 'further', 'four', 'are', 'set', 'to', 'be', 'added', 'by', '2020', '.', 'on', 'top', 'of', 'this', ',', 'the', 'new', 'season', 'is', 'the', 'first', 'of', 'a', 'new', 'domestic', 'tv', 'and', 'media', 'rights', 'deal', 'with', 'fox', ',', 'espn', 'and', 'univision', 'worth', '$', '700', 'million', 'over', 'eight', 'years', '.', 'this', 'figure', 'may', 'pale', 'beside', 'the', '$', '5.1', 'billion', 'recently', 'paid', 'by', 'uk', 'broadcasters', 'for', 'the', 'english', 'premier', 'league', ',', 'the', 'richest', 'football', 'league', 'in', 'the', 'world', ',', 'but', 'it', 'represents', 'a', 'tripling', 'in', 'value', 'of', 'the', 'previous', 'mls', 'deal', '.', 'according', 'to', 'phil', 'rawlins', ',', 'co-primary', 'owner', 'and', 'president', 'of', 'the', 'new', 'mls', 'franchise', ',', 'orlando', 'city', 'soccer', 'club', ',', '``', 'the', 'industry', 'and', 'the', 'game', 'itself', 'has', 'moved', 'on', 'dramatically', \"''\", 'in', 'the', 'u.s.', '.', 'he', 'believes', 'what', 'would', 'equal', '50', 'years', 'growth', 'in', 'most', 'other', 'industries', 'has', 'been', 'experienced', 'in', 'the', 'first', 'two', 'decades', 'of', 'the', 'mls', '.', 'rawlins', \"'\", 'club', 'is', 'a', 'prime', 'example', 'of', 'this', 'rapid', 'transformation', '.', 'he', 'describes', 'players', 'being', 'pushed', 'out', 'of', 'changing', 'facilities', 'because', 'of', 'a', 'schedule', 'clash', 'with', 'a', 'yoga', 'class', 'not', 'so', 'long', 'ago', '.', 'this', 'weekend', '60,000', 'fans', 'are', 'expected', 'to', 'witness', 'orlando', 'city', \"'s\", 'opening', 'weekend', 'fixture', 'against', 'new', 'york', 'city', ',', 'another', 'new', 'club', 'making', 'their', 'mls', 'bow', '.', 'world', 'cup', 'winners', 'kaka', 'and', 'david', 'villa', 'will', 'turn', 'out', 'for', 'orlando', 'and', 'new', 'york', 'city', 'respectively', '.', '``', 'we', \"'re\", 'just', 'on', 'the', 'crest', 'of', 'the', 'wave', 'at', 'the', 'moment', ',', \"''\", 'rawlins', 'said', 'of', 'football', \"'s\", 'american', 'progress', '.', '``', 'can', 'it', 'be', 'the', 'number', 'two', ',', 'number', 'three', 'sport', 'in', 'this', 'country', '?', 'yes', ',', 'i', 'think', 'it', 'can', '.', 'and', 'it', 'can', 'be', 'in', 'a', 'short', 'space', 'of', 'time', '.', \"''\", 'these', 'positive', 'assertions', 'are', 'backed', 'by', 'the', 'huge', 'interest', 'u.s.', 'fans', 'showed', 'in', 'last', 'year', \"'s\", 'world', 'cup', 'in', 'brazil', '.', 'team', 'usa', \"'s\", 'group', 'stage', 'clash', 'with', 'portugal', 'attracted', '25', 'million', 'viewers', ',', 'according', 'to', 'figures', 'from', 'tv', 'ratings', 'firm', ',', 'nielsen', '.', 'that', \"'s\", 'considerably', 'more', 'than', 'the', '15', 'million', 'baseball', \"'s\", '2013', 'world', 'series', 'averaged', 'on', 'fox', 'or', 'the', 'similar', 'audience', 'that', 'tuned', 'into', 'the', '2014', 'nba', 'finals', 'on', 'abc', '.', 'anyone', 'who', 'saw', '20,000', 'pumped-up', 'young', 'fans', 'pack', 'out', 'chicago', \"'s\", 'grant', 'park', 'to', 'cheer', 'on', 'their', 'country', 'via', 'big', 'screens', ',', 'meanwhile', ',', 'would', 'find', 'it', 'hard', 'to', 'argue', 'against', 'soccer', 'in', 'the', 'u.s.', 'now', 'being', 'anything', 'other', 'than', 'a', 'big', 'deal', '.', 'reaching', 'this', 'promising', 'stage', ',', 'however', ',', 'has', 'been', 'anything', 'but', 'a', 'smooth', 'ride', '.', 'the', 'mls', 'was', 'reported', 'to', 'have', 'lost', 'as', 'much', 'as', '$', '250', 'million', 'in', 'its', 'first', 'five', 'years', 'while', 'average', 'attendances', 'initially', 'dwindled', 'after', 'the', 'inaugural', 'season', '.', 'three', 'teams', '--', 'miami', 'fusion', ',', 'tampa', 'bay', 'mutiny', '-lrb-', 'both', 'in', '2001', '-rrb-', 'and', 'chivas', 'usa', '-lrb-', '2014', '-rrb-', '--', 'were', 'disbanded', 'along', 'the', 'way', 'due', 'to', 'a', 'mixture', 'of', 'lack', 'of', 'fan', 'interest', 'and', 'ownership', 'troubles', '.', 'a', 'report', 'by', 'forbes', 'at', 'the', 'end', 'of', '2013', ',', 'meanwhile', ',', 'claimed', 'that', 'only', '10', 'out', 'of', '19', 'mls', 'teams', 'were', 'profitable', '.', 'and', 'as', 'recently', 'as', 'this', 'week', ',', 'mls', 'players', 'looked', 'like', 'they', 'could', 'be', 'going', 'on', 'strike', 'over', 'wages', 'and', 'the', 'right', 'of', 'players', 'to', 'become', 'free', 'agents', 'when', 'their', 'contracts', 'end', '.', 'then', 'there', \"'s\", 'the', 'way', 'the', 'league', 'develops', ',', 'attracts', 'and', 'trades', 'players', '.', 'a', 'salary', 'cap', 'restricts', 'the', 'amount', 'teams', 'can', 'spend', 'on', 'playing', 'squads', '.', 'each', 'side', ',', 'however', ',', 'has', 'a', 'number', 'of', 'spaces', 'that', 'can', 'be', 'allocated', 'to', '``', 'off', 'budget', \"''\", 'signings', 'which', 'are', 'not', 'included', 'within', 'the', 'cap', '.', 'this', 'includes', 'promising', 'generation', 'adidas', 'players', 'who', 'enter', 'the', 'mls', 'through', 'the', 'draft', 'systems', 'before', 'completing', 'their', 'college', 'education', '.', 'homegrown', 'players', 'from', 'club', \"'s\", 'development', 'academies', 'are', 'also', 'exempt', 'as', 'are', 'a', 'maximum', 'of', 'three', 'designated', 'players', '-lrb-', 'dps', '-rrb-', ',', 'usually', 'stellar', 'international', 'names', 'whose', 'wages', 'and', 'transfer', 'fees', 'will', 'be', 'covered', 'by', 'club', 'owners', 'or', 'sponsors', '.', 'one', 'of', 'the', 'main', 'criticisms', 'of', 'the', 'mls', 'and', 'its', 'complex', 'player', 'acquisition', 'rulebook', 'is', 'that', 'while', 'it', 'does', 'entice', 'prominent', 'stars', 'of', 'the', 'game', 'like', 'david', 'beckham', ',', 'freddie', 'ljungberg', 'and', 'thierry', 'henry', 'to', 'appear', 'in', 'the', 'mls', ',', 'it', 'only', 'does', 'so', 'when', 'their', 'careers', 'are', 'on', 'a', 'downward', 'trajectory', '.', 'why', 'would', 'an', 'exceptional', 'player', 'want', 'to', 'move', 'to', 'a', 'league', 'that', 'can', 'only', 'attract', 'a', 'handful', 'of', 'top', 'talents', 'at', 'any', 'one', 'time', ',', 'after', 'all', '?', 'and', 'herein', 'lies', 'one', 'of', 'the', 'leagues', 'biggest', 'challenges', 'in', 'attracting', 'and', 'keeping', 'the', 'talented', 'players', 'fans', 'want', 'to', 'see', '.', 'although', 'the', 'likes', 'of', 'the', 'salary', 'cap', 'encourages', 'fiscal', 'probity', ',', 'it', 'means', 'mls', 'teams', 'are', 'restricted', 'by', 'rules', 'clubs', 'in', 'other', 'markets', 'are', 'not', '.', 'head', 'coach', 'of', 'sporting', 'kansas', ',', 'peter', 'vermes', ',', 'highlighted', 'these', 'difficulties', 'in', 'comments', 'carried', 'by', 'the', 'kansas', 'city', 'star', 'newspaper', 'last', 'year', '.', '``', 'we', \"'re\", 'in', 'a', 'place', 'where', 'at', 'times', 'you', 'ca', \"n't\", 'compete', 'with', 'foreign', 'clubs', 'because', 'of', 'the', 'kind', 'of', 'dynamics', 'they', 'have', 'in', 'regards', 'to', 'finances', '.', 'we', 'have', 'a', 'salary', 'cap', '.', 'they', 'do', \"n't\", ',', \"''\", 'vermes', 'said', '.', 'according', 'to', 'paulo', 'teixeira', ',', 'a', 'football', 'agent', 'who', 'has', 'worked', 'to', 'bring', 'in', 'and', 'sell', 'players', 'from', 'the', 'league', 'in', 'recent', 'years', ',', 'current', 'philosophies', 'with', 'regards', 'player-trading', 'may', 'be', 'have', 'to', 'be', 'tweaked', 'to', 'help', 'the', 'mls', 'grow', 'yet', 'further', '.', 'he', 'describes', 'the', 'importance', 'of', 'placing', 'an', 'emphasis', 'on', 'attracting', 'younger', 'players', 'with', 'european', 'passports', '.', 'such', 'talented', 'individuals', 'will', 'have', 'a', 'sell-on', 'value', 'that', 'can', 'be', 'recouped', 'by', 'the', 'league', 'and', 'their', 'clubs', 'if', 'they', 'move', 'on', 'from', 'the', 'mls', 'to', 'the', 'biggest', 'and', 'wealthiest', 'leagues', 'across', 'the', 'atlantic', '.', 'theoretically', ',', 'at', 'least', ',', 'this', 'money', 'can', 'then', 'be', 'reinvested', 'in', 'the', 'league', ',', 'player', 'development', 'and', 'attracting', 'yet', 'more', 'promising', 'players', 'to', 'the', 'mls', '.', 'this', 'in', 'turn', 'will', 'raise', 'the', 'standard', 'further', '.', 'an', 'early', 'example', 'of', 'this', 'strategy', 'can', 'perhaps', 'be', 'found', 'in', 'the', 'transfer', 'of', 'oriol', 'rossell', ',', 'a', 'spanish', 'midfielder', 'who', 'moved', 'from', 'sporting', 'kansas', 'to', 'sporting', 'lisbon', 'last', 'year', 'in', 'a', 'deal', 'brokered', 'by', 'teixeira', '.', 'rossell', 'arrived', 'on', 'a', 'free', 'transfer', 'aged', '20', 'after', 'being', 'released', 'by', 'fc', 'barcelona', 'in', '2012', '.', 'he', 'excelled', 'at', 'kansas', ',', 'winning', 'the', 'mls', 'cup', 'before', 'being', 'sold', 'to', 'the', 'portuguese', 'giants', 'at', 'a', 'profit', 'in', 'june', '2014', '.', 'teixeira', 'is', 'quick', 'to', 'make', 'clear', 'such', 'plans', 'would', 'need', 'good', 'scouting', 'systems', 'to', 'truly', 'flourish', '.', 'it', 'could', 'also', 'be', 'achieved', 'by', 'signing', 'dps', 'closer', 'to', 'the', 'peak', 'stage', 'of', 'their', 'career', ',', 'he', 'added', '.', 'this', 'last', 'point', 'is', 'something', 'that', 'appears', 'be', 'happening', 'already', '.', '``', 'before', 'they', 'used', 'to', 'have', 'a', 'lot', 'of', 'big', 'names', 'who', 'could', 'no', 'longer', 'run', 'in', 'europe', ',', \"''\", 'teixeira', 'said', '.', \"''\", '-lrb-', 'but', '-rrb-', 'villa', 'is', 'not', 'an', 'old', 'guy', ',', '-lrb-', 'frank', '-rrb-', 'lampard', 'is', 'still', 'going', 'strong', \"''\", 'and', 'both', 'could', 'still', 'offer', 'something', 'to', 'teams', 'in', 'europe', ',', 'he', 'said', 'by', 'way', 'of', 'example', 'of', 'new', 'york', 'city', \"'s\", 'first', 'dp', 'signings', '.', 'nevertheless', ',', 'he', 'continued', ',', 'the', 'signing', 'of', 'more', 'young', 'players', 'with', 'big', 'potential', '``', 'is', 'probably', 'something', 'we', \"'ll\", 'see', 'more', 'of', '.', \"''\", 'whether', 'teixeira', 'is', 'correct', 'will', 'become', 'apparent', 'in', 'the', 'months', 'and', 'years', 'ahead', '.', 'either', 'way', ',', 'that', 'brave', 'new', 'mls', 'dawn', 'that', 'broke', 'over', 'san', 'jose', 'back', 'in', '1996', 'has', 'turned', 'into', 'a', 'bright', 'morning', '.', 'cnn', \"'s\", 'don', 'riddell', 'contributed', 'to', 'this', 'story', '.', '<end>']\n",
      "summary reference summary ['<start>', 'the', '20th', 'mls', 'season', 'begins', 'this', 'weekend', '.', 'league', 'has', 'changed', 'dramatically', 'since', 'its', 'inception', 'in', '1996', '.', 'some', 'question', 'whether', 'rules', 'regarding', 'salary', 'caps', 'and', 'transfers', 'need', 'to', 'change', '.', '<end>']\n",
      "summary decoded summary ['<start>', 'countdown', 'clocks', 'were', 'employed', 'by', 'uk', 'broadcasters', 'for', 'the', 'english', 'premier', 'league', '.', 'the', 'mls', 'prepares', 'to', 'mark', 'the', 'beginning', 'of', 'its', '20th', 'season', '.', 'a', 'further', 'four', 'are', 'set', 'to', 'be', 'added', 'by', '2020', '.', '<end>']\n",
      "0.954749\n",
      "\n",
      "text ['<start>', 'cnn', '-rrb-', 'french', 'striker', 'bafetimbi', 'gomis', ',', 'who', 'has', 'a', 'history', 'of', 'fainting', ',', 'said', 'he', 'is', 'now', '``', 'feeling', 'well', \"''\", 'after', 'collapsing', 'during', 'swansea', \"'s\", '3-2', 'loss', 'at', 'tottenham', 'in', 'the', 'premier', 'league', 'on', 'wednesday', '.', 'the', 'worrying', 'incident', 'occurred', 'in', 'the', 'first', 'half', 'at', 'white', 'hart', 'lane', '--', 'after', 'tottenham', 'scored', 'in', 'the', 'seventh', 'minute', '--', 'but', 'the', '29-year-old', 'left', 'the', 'pitch', 'conscious', 'following', 'about', 'five', 'minutes', 'of', 'treatment', '.', 'the', 'guardian', 'added', 'that', 'he', 'was', 'wearing', 'an', 'oxygen', 'mask', '.', 'play', 'was', 'temporarily', 'stopped', 'before', 'resuming', '.', 'as', 'the', 'match', 'progressed', ',', 'swansea', 'tweeted', 'that', 'gomis', 'was', '``', 'fine', ',', \"''\", 'with', 'manager', 'garry', 'monk', 'using', 'the', 'same', 'word', 'to', 'describe', 'gomis', \"'\", 'condition', '.', 'gomis', 'spent', 'the', 'night', 'in', 'hospital', 'as', 'a', 'precaution', ',', 'swansea', 'said', 'on', 'its', 'website', '.', '``', 'i', 'wanted', 'to', 'reassure', 'you', 'concerning', 'my', 'health', ',', \"''\", 'gomis', 'told', 'the', 'website', '.', '``', 'it', 'actually', 'looks', 'much', 'scarier', 'than', 'it', 'is', 'physically', 'dangerous', ',', 'and', 'i', 'am', 'feeling', 'well', 'now', '.', '``', 'i', 'have', 'been', 'under', 'a', 'great', 'deal', 'of', 'stress', 'and', 'fatigue', 'due', 'to', 'my', 'father', \"'s\", 'health', ',', 'which', 'requires', 'me', 'to', 'go', 'back', 'and', 'forth', 'from', 'france', '.', '``', 'i', 'was', 'disappointed', 'that', 'i', 'could', \"n't\", 'help', 'my', 'team', 'tonight', ',', 'but', 'now', 'everything', 'is', 'back', 'in', 'order', '.', 'i', 'also', 'want', 'to', 'thank', 'everyone', 'for', 'their', 'support', 'and', 'get', 'well', 'messages', '.', \"''\", 'gomis', 'had', 'similar', 'fainting', 'spells', 'in', 'france', ',', 'which', 'prompted', 'the', 'president', 'of', 'his', 'former', 'club', ',', 'jean-michel', 'aulas', 'of', 'lyon', ',', 'to', 'tell', 'french', 'television', 'in', '2009', ':', '``', 'we', 'ca', \"n't\", 'not', 'be', 'worried', ',', 'it', 'scares', 'you', 'each', 'time', '.', \"''\", 'swansea', 'ran', 'tests', 'on', 'gomis', ',', 'said', 'monk', ',', 'prior', 'to', 'signing', 'him', 'on', 'a', 'free', 'transfer', 'last', 'july', '.', '``', 'he', 'just', 'has', 'a', 'little', 'bit', 'of', 'low', 'blood', 'pressure', 'which', 'causes', 'you', 'a', 'little', 'bit', 'of', 'problems', ',', \"''\", 'monk', 'said', 'in', 'a', 'televised', 'interview', 'on', 'sky', '.', '``', 'it', \"'s\", 'been', 'part', 'of', 'his', 'life', '.', 'we', 'were', 'well', 'aware', 'of', 'that', 'when', 'we', 'signed', 'him', '.', 'he', \"'s\", 'done', 'all', 'the', 'hospital', 'checks', 'and', 'all', 'the', 'medical', 'checks', 'you', 'can', 'possibly', 'do', 'and', 'it', \"'s\", 'just', 'part', 'of', 'his', 'life', '.', '``', 'it', \"'s\", 'no', 'problems', 'whatsoever', '.', 'it', \"'s\", 'not', 'as', 'serious', 'as', 'it', 'looks', '.', \"''\", 'gomis', 'has', 'scored', 'two', 'league', 'goals', 'for', 'swansea', 'this', 'season', ',', 'mostly', 'in', 'a', 'backup', 'role', '.', 'he', 'became', 'the', 'welsh', 'side', \"'s\", 'top', 'striker', 'when', 'wilfried', 'bony', 'signed', 'with', 'manchester', 'city', 'in', 'january', '.', 'almost', 'exactly', 'three', 'years', 'ago', 'at', 'white', 'hart', 'lane', ',', 'then', 'bolton', 'midfielder', 'fabrice', 'muamba', 'collapsed', 'after', 'suffering', 'a', 'cardiac', 'arrest', '.', 'he', 'was', 'near', 'death', ',', 'according', 'to', 'bolton', ',', 'but', 'survived', 'after', 'being', 'treated', 'at', 'the', 'london', 'chest', 'hospital', '.', 'he', 'subsequently', 'retired', '.', 'other', 'footballers', ',', 'including', 'cameroon', 'international', 'marc-vivien', 'foe', 'in', '2003', 'and', 'spanish', 'international', 'antonio', 'puerta', 'in', '2007', ',', 'did', \"n't\", 'survive', 'after', 'collapsing', 'on', 'the', 'pitch', '.', '<end>']\n",
      "summary reference summary ['<start>', 'bafetimbi', 'gomis', 'collapses', 'within', '10', 'minutes', 'of', 'kickoff', 'at', 'tottenham', '.', 'but', 'he', 'reportedly', 'left', 'the', 'pitch', 'conscious', 'and', 'wearing', 'an', 'oxygen', 'mask', '.', 'gomis', 'later', 'said', 'that', 'he', 'was', '``', 'feeling', 'well', \"''\", '.', 'the', 'incident', 'came', 'three', 'years', 'after', 'fabrice', 'muamba', 'collapsed', 'at', 'white', 'hart', 'lane', '.', '<end>']\n",
      "summary decoded summary ['<start>', 'bafetimbi', 'gomis', 'says', 'he', 'is', 'now', '``', 'feeling', 'well', \"''\", 'after', 'collapsing', 'during', 'five', 'minutes', 'of', 'treatment', '.', 'the', 'worrying', 'incident', 'occurred', 'in', 'the', 'first', 'half', 'at', 'white', 'hart', 'lane', '.', 'gomis', 'has', 'scored', 'two', 'league', 'goals', 'for', 'the', 'seventh', 'minute', '.', '<end>']\n",
      "0.825436\n",
      "\n",
      "text ['<start>', 'cnn', '-rrb-', 'my', 'vote', 'for', 'father', 'of', 'the', 'year', 'goes', 'to', 'curt', 'schilling', '.', 'the', 'former', 'major', 'league', 'baseball', 'pitcher', 'recently', 'fired', 'off', 'a', 'series', 'of', 'fastballs', 'and', 'mowed', 'down', 'a', 'group', 'of', 'twitter', 'trolls', 'who', 'made', 'the', 'mistake', 'of', 'tweeting', 'vulgar', 'and', 'sexually-explicit', 'comments', 'about', 'schilling', \"'s\", 'teenage', 'daughter', '.', 'the', 'drama', 'started', ',', 'innocently', 'enough', ',', 'on', 'february', '25', ',', 'when', 'schilling', 'played', 'the', 'role', 'of', 'a', 'proud', 'father', '.', 'he', 'sent', 'a', 'tweet', 'congratulating', 'his', 'daughter', ',', 'gabby', ',', 'on', 'being', 'accepted', 'to', 'salve', 'regina', 'university', ',', 'where', 'she', \"'ll\", 'play', 'softball', '.', 'it', 'read', ':', '``', 'congrats', 'to', 'gabby', 'schilling', 'who', 'will', 'pitch', 'for', 'the', 'salve', 'regina', 'seahawks', 'next', 'year', '!!', '--', 'curt', 'schilling', '-lrb-', '@gehrig38', '-rrb-', \"''\", 'almost', 'immediately', ',', 'responses', 'came', 'in', 'from', 'young', 'men', ',', 'complete', 'strangers', 'who', 'apparently', 'followed', 'schilling', 'on', 'twitter', '.', 'the', 'tweets', 'quickly', 'went', 'from', 'immature', ',', 'to', 'creepy', ',', 'to', 'repugnant', '.', 'threats', 'of', 'rape', 'were', 'common', '.', 'the', 'tweets', 'were', 'deleted', ',', 'and', 'the', 'accounts', 'were', 'closed', 'after', 'this', 'story', 'went', 'viral', '.', 'but', 'not', 'before', 'schilling', 'captured', 'some', 'of', 'the', 'images', 'and', 'posted', 'them', 'on', 'his', 'blog', '.', 'what', 'was', 'said', 'about', '17-year-old', 'gabby', 'schilling', 'was', \"n't\", 'just', 'obnoxious', '.', 'it', 'was', 'vile', 'and', 'obscene', '.', 'what', 'was', 'said', 'was', \"n't\", 'just', 'mean', 'and', 'ugly', '.', 'it', 'was', 'threatening', 'and', 'scary', '.', 'as', 'a', 'parent', ',', 'it', \"'s\", 'the', 'kind', 'of', 'thing', 'that', 'makes', 'you', 'rethink', 'your', 'opposition', 'to', 'public', 'caning', 'as', 'a', 'logical', 'punishment', 'for', 'such', 'transgressions', '.', 'these', 'misogynistic', 'cowards', 'may', 'have', 'thought', 'they', 'could', 'hide', 'in', 'the', 'darkness', 'of', 'anonymity', ',', 'the', 'sort', 'that', 'many', 'have', 'come', 'to', 'expect', 'from', 'social', 'media', 'sites', ',', 'where', 'you', 'feel', 'free', 'to', 'be', 'a', 'despicable', 'human', 'being', 'because', ',', 'you', 'think', ',', 'no', 'one', 'will', 'ever', 'find', 'out', 'who', 'you', 'really', 'are', 'and', 'hold', 'you', 'accountable', 'for', 'your', 'words', '.', 'if', 'so', ',', 'they', 'thought', 'wrong', '.', 'they', 'could', \"n't\", 'hide', '.', 'they', 'were', 'found', 'out', ',', 'and', 'they', 'got', 'the', 'throttling', 'they', 'so', 'richly', 'deserved', '.', 'thanks', 'to', 'dad', '.', 'according', 'to', 'schilling', ',', 'who', 'made', 'it', 'his', 'mission', 'to', 'track', 'down', 'these', 'cretins', 'and', 'make', 'sure', 'those', 'they', 'associate', 'with', 'know', 'who', 'they', 'really', 'are', ',', 'two', 'people', 'have', 'already', 'paid', 'a', 'price', 'due', 'to', 'their', 'tweets', '.', 'one', 'was', 'a', 'student', 'disc', 'jockey', 'at', 'a', 'community', 'college', 'in', 'new', 'jersey', ',', 'who', 'was', 'suspended', ',', 'and', 'the', 'other', 'was', 'a', 'part-time', 'ticket', 'seller', 'for', 'the', 'new', 'york', 'yankees', ',', 'who', 'was', 'fired', '.', 'concerned', 'that', 'this', 'is', 'an', 'example', 'of', 'exactly', 'the', 'kind', 'of', 'cyberbullying', 'that', 'leads', 'some', 'teenagers', 'to', 'commit', 'suicide', ',', 'schilling', 'is', 'also', 'thinking', 'about', 'taking', 'legal', 'action', 'against', 'some', 'of', 'the', 'other', 'people', 'involved', '.', 'bravo', 'for', 'him', '.', 'i', \"'m\", 'sure', 'that', ',', 'all', 'across', 'america', ',', 'dads', 'with', 'daughters', '--', 'after', 'reading', 'some', 'of', 'the', 'horrible', 'things', 'that', 'were', 'said', 'about', 'this', 'young', 'girl', '--', 'are', 'marveling', 'at', 'schilling', \"'s\", 'self-control', '.', 'i', 'have', 'two', 'daughters', 'of', 'my', 'own', ',', 'and', 'he', \"'s\", 'a', 'better', 'man', 'than', 'me', '.', 'if', 'ever', 'there', 'was', 'a', 'case', 'where', 'profanity-spewing', 'malcontents', 'deserved', 'to', 'have', 'their', 'mouths', 'washed', 'out', 'with', 'soap', ',', 'this', 'is', 'it', '.', 'so', 'what', 'additional', 'insights', 'can', 'we', 'draw', ',', 'and', 'what', 'larger', 'lessons', 'can', 'we', 'learn', ',', 'from', 'this', 'unexpected', 'but', 'predictable', 'collision', 'of', 'old-fashioned', 'parenthood', 'and', 'newfangled', 'media', '?', 'there', 'are', 'a', 'few', '.', 'the', 'first', 'is', 'about', 'accountability', ',', 'the', 'very', 'thing', 'that', 'the', 'young', 'men', 'who', 'posted', 'these', 'hurtful', 'messages', 'were', 'trying', 'to', 'avoid', '.', 'but', 'schilling', 'would', \"n't\", 'let', 'them', '.', 'at', 'their', 'best', ',', 'social', 'media', 'sites', 'like', 'twitter', ',', 'facebook', ',', 'instagram', 'and', 'others', 'allow', 'the', 'sharing', 'the', 'information', 'and', 'the', 'building', 'of', 'a', 'sense', 'of', 'community', '.', 'at', 'their', 'worst', ',', 'they', 'become', 'digital', 'sandboxes', 'and', 'locker', 'rooms', 'where', 'people', 'think', 'have', 'a', 'license', 'to', 'misbehave', 'without', 'having', 'to', 'worry', 'about', 'consequences', '.', 'we', 'need', 'to', 'applaud', 'efforts', 'like', 'this', 'that', 'promote', 'greater', 'online', 'accountability', '.', 'there', \"'s\", 'also', 'something', 'to', 'be', 'said', 'about', 'protective', 'parents', ',', 'and', 'how', 'essential', 'they', 'are', 'to', 'a', 'working', 'society', '.', 'we', 'should', 'still', 'be', 'concerned', 'about', 'those', 'overprotective', 'parents', 'who', 'hover', 'like', 'helicopters', 'from', 'little', 'league', 'to', 'job', 'interviews', '.', 'we', 'should', \"n't\", 'bubblewrap', 'our', 'kids', ',', 'and', 'keep', 'them', 'from', 'playing', 'outdoors', ',', 'and', 'then', 'sit', 'around', 'wondering', 'why', 'they', \"'re\", 'soft', ',', 'timid', ',', 'and', 'risk-averse', '.', 'but', 'protective', 'parents', '--', 'the', 'kind', 'who', 'shield', 'their', 'kids', 'from', 'real', 'danger', '--', 'never', 'go', 'out', 'of', 'style', '.', 'a', 'parent', \"'s\", 'top', 'job', 'is', 'to', 'protect', 'his', 'children', '.', 'schilling', 'did', 'his', 'job', '.', 'finally', ',', 'it', \"'s\", 'worth', 'reminding', 'everyone', 'that', 'freedom', 'of', 'expression', 'does', 'not', 'mean', 'freedom', 'from', 'rules', ',', 'standards', ',', 'and', 'expectations', 'that', 'should', 'guide', 'your', 'behavior', '.', 'there', 'are', 'things', 'you', 'do', \"n't\", 'say', '.', 'there', 'are', 'boundaries', ',', 'ways', 'that', 'we', 'expect', 'you', 'to', 'behave', 'so', 'you', 'do', \"n't\", 'terrorize', 'other', 'people', 'or', 'bring', 'shame', 'upon', 'yourself', ',', 'your', 'friends', ',', 'and', 'your', 'family', '.', 'if', 'you', 'do', \"n't\", 'have', 'social', 'skills', ',', 'you', 'do', \"n't\", 'belong', 'on', 'social', 'media', '.', 'the', 'tweets', 'make', 'you', 'wince', '.', 'but', 'in', 'this', 'story', ',', 'you', \"'ll\", 'still', 'find', 'plenty', 'to', 'smile', 'about', '.', 'this', 'whole', 'drama', 'unfolded', 'because', 'schilling', 'was', 'proud', 'of', 'his', 'daughter', '.', 'now', ',', 'given', 'how', 'he', 'reacted', ',', 'we', 'all', 'have', 'reason', 'to', 'be', 'proud', 'of', 'him', '.', '<end>']\n",
      "summary reference summary ['<start>', 'ruben', 'navarrette', ':', 'schilling', 'deserves', 'praise', 'for', 'taking', 'on', 'online', 'haters', 'for', 'offensive', 'comments', 'about', 'his', 'daughter', '.', 'navarrette', ':', 'in', 'protecting', 'his', 'child', ',', 'schilling', 'set', 'a', 'model', 'for', 'parenting', 'and', 'taught', 'us', 'a', 'lesson', 'about', 'social', 'media', '.', '<end>']\n",
      "summary decoded summary ['<start>', 'curt', 'schilling', ':', '``', 'i', 'will', 'pitch', 'for', 'the', 'salve', 'regina', 'seahawks', 'next', 'year', \"''\", '.', 'she', 'says', ':', 'what', 'was', \"n't\", 'just', 'mean', 'and', 'ugly', '.', 'the', 'drama', 'started', ',', 'innocently', 'enough', ',', 'on', 'february', '25', ',', 'when', 'this', 'story', 'went', 'viral', '.', '<end>']\n",
      "1.21346\n",
      "\n"
     ]
    }
   ],
   "source": [
    "p.USE_TRANSFORMER = False\n",
    "vectorizer = Word2VecVectorizer(Word2Vec.load(p.WORD2VEC_FILE))\n",
    "data = get_data(p.VAL_FILE, vectorizer, with_oov=p.POINTER_GEN, aspect_file=p.ASPECT_FILE)\n",
    "model = new_model(vectorizer, data.dataset.aspects, p).eval()\n",
    "with open('LongLSTMRun/model_state.pkl', 'rb') as modelfile:\n",
    "    model.load_state_dict(pkl.load(modelfile))\n",
    "batch = data[:p.DECODING_BATCH_SIZE]\n",
    "store = {}\n",
    "aspect_results = summarize(batch, model, beam_size=p.BEAM_SIZE, store=store)\n",
    "print_batch(batch, [r[0] for r in aspect_results], vectorizer, model.aspects)"
   ]
  },
  {
   "cell_type": "code",
   "execution_count": null,
   "metadata": {},
   "outputs": [],
   "source": [
    "len(store)"
   ]
  },
  {
   "cell_type": "code",
   "execution_count": null,
   "metadata": {},
   "outputs": [],
   "source": [
    "len(store['summary'])"
   ]
  },
  {
   "cell_type": "code",
   "execution_count": null,
   "metadata": {},
   "outputs": [],
   "source": [
    "store['summary']['encoder_transformer_attns'].size()"
   ]
  },
  {
   "cell_type": "code",
   "execution_count": null,
   "metadata": {},
   "outputs": [],
   "source": [
    "store['summary']['encoder_transformer_attns'][0,0,:,0,:].size()"
   ]
  },
  {
   "cell_type": "code",
   "execution_count": null,
   "metadata": {},
   "outputs": [],
   "source": [
    "dist = store['summary']['encoder_transformer_attns'][0,0,:,:,:].mean(1)"
   ]
  },
  {
   "cell_type": "code",
   "execution_count": null,
   "metadata": {},
   "outputs": [],
   "source": [
    "triplets = get_text_triplets(batch, [r[0] for r in aspect_results], vectorizer, model.aspects)\n",
    "sentence = triplets[0][0][:400]\n",
    "matrix = dist.cpu().detach().numpy()[:400,:400]"
   ]
  },
  {
   "cell_type": "code",
   "execution_count": null,
   "metadata": {},
   "outputs": [],
   "source": [
    "import numpy as np\n",
    "import matplotlib\n",
    "import matplotlib.pyplot as plt\n",
    "# sphinx_gallery_thumbnail_number = 2\n",
    "\n",
    "queries = sentence\n",
    "keys = sentence\n",
    "\n",
    "harvest = matrix\n",
    "\n",
    "\n",
    "fig, ax = plt.subplots(figsize=(50, 40))\n",
    "im = ax.imshow(matrix)\n",
    "\n",
    "# We want to show all ticks...\n",
    "ax.set_xticks(np.arange(len(queries)))\n",
    "ax.set_yticks(np.arange(len(keys)))\n",
    "# ... and label them with the respective list entries\n",
    "ax.set_xticklabels(queries)\n",
    "ax.set_yticklabels(keys)\n",
    "\n",
    "# Rotate the tick labels and set their alignment.\n",
    "plt.setp(ax.get_xticklabels(), rotation=45, ha=\"right\",\n",
    "         rotation_mode=\"anchor\")\n",
    "\n",
    "ax.set_title(\"Attention\")\n",
    "fig.tight_layout()\n",
    "plt.show()"
   ]
  },
  {
   "cell_type": "code",
   "execution_count": null,
   "metadata": {},
   "outputs": [],
   "source": [
    "dist.sum(0)[12]"
   ]
  },
  {
   "cell_type": "code",
   "execution_count": null,
   "metadata": {},
   "outputs": [],
   "source": []
  }
 ],
 "metadata": {
  "kernelspec": {
   "display_name": "Python 3",
   "language": "python",
   "name": "python3"
  },
  "language_info": {
   "codemirror_mode": {
    "name": "ipython",
    "version": 3
   },
   "file_extension": ".py",
   "mimetype": "text/x-python",
   "name": "python",
   "nbconvert_exporter": "python",
   "pygments_lexer": "ipython3",
   "version": "3.6.7"
  }
 },
 "nbformat": 4,
 "nbformat_minor": 2
}
