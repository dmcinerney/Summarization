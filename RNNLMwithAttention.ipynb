{
 "cells": [
  {
   "cell_type": "markdown",
   "metadata": {},
   "source": [
    "# Generator Model"
   ]
  },
  {
   "cell_type": "code",
   "execution_count": 1,
   "metadata": {},
   "outputs": [],
   "source": [
    "import torch\n",
    "from PICOHelper import get_pico_datasets\n",
    "from NewsroomHelper import get_newsroom_datasets\n",
    "from models import GeneratorModel\n",
    "from model_helpers import loss_function, error_function\n",
    "from utils import get_index_words\n",
    "from pytorch_helper import VariableBatchDataLoader, ModelManipulator, plot_learning_curves"
   ]
  },
  {
   "cell_type": "markdown",
   "metadata": {},
   "source": [
    "## Parameters"
   ]
  },
  {
   "cell_type": "code",
   "execution_count": 2,
   "metadata": {},
   "outputs": [
    {
     "name": "stdout",
     "output_type": "stream",
     "text": [
      "True\n"
     ]
    }
   ],
   "source": [
    "# training parameters\n",
    "BATCH_SIZE = 64\n",
    "NUM_EPOCHS = 1\n",
    "LEARNING_RATE = 1e-2\n",
    "# INITIAL_ACCUMULATOR_VALUE = 0.1\n",
    "GAMMA = 1\n",
    "USE_CUDA = torch.cuda.is_available()\n",
    "print(USE_CUDA)\n",
    "BEAM_SIZE = 4"
   ]
  },
  {
   "cell_type": "markdown",
   "metadata": {},
   "source": [
    "## Get Data"
   ]
  },
  {
   "cell_type": "code",
   "execution_count": 3,
   "metadata": {
    "scrolled": true
   },
   "outputs": [
    {
     "name": "stdout",
     "output_type": "stream",
     "text": [
      "11029 3676 3678\n",
      "retrieving word2vec model from file\n"
     ]
    }
   ],
   "source": [
    "# pico_dataset_train, pico_dataset_dev, pico_dataset_test = get_pico_datasets()\n",
    "newsroom_dataset_train, newsroom_dataset_dev, newsroom_dataset_test = get_newsroom_datasets()\n",
    "word_vectors = newsroom_dataset_train.word_vectors\n",
    "start_index = newsroom_dataset_train.word_indices['<start>']\n",
    "end_index = newsroom_dataset_train.word_indices['<end>']"
   ]
  },
  {
   "cell_type": "markdown",
   "metadata": {},
   "source": [
    "## Create Model"
   ]
  },
  {
   "cell_type": "code",
   "execution_count": null,
   "metadata": {},
   "outputs": [],
   "source": [
    "generator_model = GeneratorModel(word_vectors, start_index, end_index, num_hidden1=None, num_hidden2=None, with_coverage=False, gamma=GAMMA)"
   ]
  },
  {
   "cell_type": "markdown",
   "metadata": {},
   "source": [
    "## Train and Save Model"
   ]
  },
  {
   "cell_type": "code",
   "execution_count": null,
   "metadata": {
    "scrolled": true
   },
   "outputs": [],
   "source": [
    "dataloader = VariableBatchDataLoader(newsroom_dataset_train, batch_size=BATCH_SIZE, shuffle=True)\n",
    "optimizer = torch.optim.Adam(generator_model.parameters(),\n",
    "                             lr=LEARNING_RATE)\n",
    "# optimizer = torch.optim.Adagrad((generator_model.cuda() if USE_CUDA else generator_model).parameters(),\n",
    "#                                 lr=LEARNING_RATE, initial_accumulator_value=INITIAL_ACCUMULATOR_VALUE)\n",
    "model_manip = ModelManipulator(generator_model, optimizer, loss_function, error_function, use_cuda=USE_CUDA)\n",
    "train_stats, val_stats = model_manip.train(dataloader, NUM_EPOCHS, dataset_val=newsroom_dataset_dev, stats_every=10, verbose_every=10)"
   ]
  },
  {
   "cell_type": "code",
   "execution_count": null,
   "metadata": {},
   "outputs": [],
   "source": [
    "torch.save(generator_model, 'models/generator_temp.model')"
   ]
  },
  {
   "cell_type": "code",
   "execution_count": 4,
   "metadata": {},
   "outputs": [
    {
     "name": "stderr",
     "output_type": "stream",
     "text": [
      "/home/jered/Documents/Projects/Summarization/venv/lib/python3.6/site-packages/torch/serialization.py:425: SourceChangeWarning: source code of class 'models.GeneratorModel' has changed. you can retrieve the original source code by accessing the object's source attribute or set `torch.nn.Module.dump_patches = True` and use the patch tool to revert the changes.\n",
      "  warnings.warn(msg, SourceChangeWarning)\n"
     ]
    }
   ],
   "source": [
    "generator_model = torch.load('models/generator_temp.model')"
   ]
  },
  {
   "cell_type": "markdown",
   "metadata": {},
   "source": [
    "## Plot"
   ]
  },
  {
   "cell_type": "code",
   "execution_count": null,
   "metadata": {},
   "outputs": [],
   "source": [
    "plot_learning_curves(training_values=train_stats, validation_values=val_stats, figure_name='graphs/generator_training_temp')"
   ]
  },
  {
   "cell_type": "code",
   "execution_count": 5,
   "metadata": {},
   "outputs": [
    {
     "name": "stderr",
     "output_type": "stream",
     "text": [
      "/home/jered/Documents/Projects/Summarization/submodules.py:21: UserWarning: RNN module weights are not part of single contiguous chunk of memory. This means they need to be compacted at every call, possibly greatly increasing memory usage. To compact weights again call flatten_parameters().\n",
      "  output, (h, c) = self.lstm(x)\n"
     ]
    }
   ],
   "source": [
    "batch = newsroom_dataset_dev[0:2]\n",
    "results = generator_model(batch['text'].cuda(), batch['text_length'].cuda(), beam_size=BEAM_SIZE)\n",
    "# generated_output = generator_model(batch['text'], batch['text_length'])"
   ]
  },
  {
   "cell_type": "code",
   "execution_count": 6,
   "metadata": {},
   "outputs": [
    {
     "name": "stdout",
     "output_type": "stream",
     "text": [
      "text ['<start>', 'you', 'can', 'say', 'this', 'for', 'the', 'new', 'miami', 'dolphins', 'uniforms', ':', 'it', '’s', 'not', 'the', 'worst', 'redesign', 'by', 'a', 'florida', '-', 'based', 'nfl', 'team', 'to', 'be', 'revealed', 'on', 'tuesday', '.', 'hours', 'after', 'the', 'jacksonville', 'jaguars', 'unveiled', 'their', 'new', 'oov', '-', 'like', 'uniforms', ',', 'paul', 'lukas', 'of', 'uni', 'watch', 'tweeted', 'a', 'picture', 'of', 'the', 'leaked', 'dolphins', 'kits', 'for', 'the', 'upcoming', 'season', '.', 'confirmed', 'leak', 'of', 'new', 'miami', 'dolphins', 'uniforms', ':', 'oov', '…', '—', 'paul', 'lukas', '(', 'oov', ')', 'april', 'qqq', ',', 'qqq', 'qqq', '.', 'the', 'uniforms', 'do', 'n’t', 'look', 'all', 'that', 'different', 'from', 'the', 'old', 'ones', '.', 'they', '’re', 'sleeker', 'and', 'more', 'modern', ',', 'but', 'without', 'a', 'qqq', 'press', 'release', 'from', 'nike', 'talking', 'about', 'the', 'subtle', 'shift', 'in', 'colors', 'and', 'adjustments', 'to', 'the', 'collar', 'that', 'will', 'revolutionize', 'the', 'sport', ',', 'it', '’s', 'hard', 'for', 'the', 'casual', 'observer', 'to', 'see', 'the', 'changes', '.', 'this', 'is', 'a', 'tweak', ',', 'not', 'an', 'overhaul', '.', 'qqq', '.', 'that', 'new', 'logo', ',', 'on', 'the', 'other', 'hand', ',', 'is', 'still', 'hideous', '.', 'it', 'looks', 'like', 'the', 'worst', 'tattoo', 'you', '’d', 'find', 'on', 'a', 'sea', 'world', 'employee', '.', '<end>']\n",
      "summary ['<start>', 'another', 'florida', 'team', 'gets', 'a', 'new', 'uniform', '.', '<end>']\n",
      "generated summary ['<start>', 'collection', 'of', 'all', 'usatoday.com', 'coverage', 'of', 'all', 'usatoday.com', '<end>']\n",
      "tensor(1.2869, device='cuda:0', grad_fn=<SelectBackward>)\n",
      "text ['<start>', 'john', 'patterson', ',', 'a', 'television', 'director', 'whose', 'frequent', 'work', 'on', 'crime', 'shows', 'included', 'every', 'season', 'finale', 'of', '\"', 'the', 'sopranos', '\"', 'on', 'hbo', ',', 'died', 'on', 'monday', 'at', 'his', 'home', 'in', 'los', 'angeles', '.', 'he', 'was', 'qqq', '.', 'the', 'cause', 'was', 'prostate', 'cancer', ',', 'hbo', 'announced', '.', 'mr.', 'patterson', 'was', 'long', 'drawn', 'to', 'cop', 'programs', ',', 'murder', 'mysteries', 'and', 'courtroom', 'dramas', '.', 'he', 'directed', 'episodes', 'of', '\"', 'chips', '\"', 'and', '\"', 'knots', 'landing', '\"', 'in', 'the', 'qqq', \"'s\", ',', '\"', 'hill', 'street', 'blues', '\"', 'and', '\"', 'magnum', ',', 'p.i.', '\"', 'in', 'the', 'qqq', \"'s\", ',', '\"', 'the', 'practice', '\"', 'and', '\"', 'providence', '\"', 'in', 'the', 'qqq', \"'s\", 'and', '\"', 'csi', '\"', 'and', '\"', 'six', 'feet', 'under', '\"', 'in', 'the', 'current', 'decade', '.', 'he', 'also', 'directed', 'the', 'pilot', 'episode', 'of', '\"', 'law', '&', 'order', '\"', 'in', 'qqq', '.', 'his', 'work', 'on', '\"', 'the', 'sopranos', ',', '\"', 'where', 'he', 'was', 'one', 'of', 'a', 'core', 'group', 'of', 'directors', ',', 'earned', 'him', 'two', 'emmy', 'award', 'nominations', ',', 'in', 'qqq', 'for', 'the', 'episode', 'with', 'pussy', \"'s\", 'death', 'and', 'in', 'qqq', 'for', 'the', 'show', 'where', 'tony', 'and', 'carmela', 'split', '.', 'mr.', 'patterson', 'directed', 'qqq', 'of', 'the', 'show', \"'s\", 'qqq', 'episodes', '.', 'john', 'oov', 'patterson', 'was', 'born', 'on', 'april', 'qqq', ',', 'qqq', ',', 'and', 'raised', 'in', 'buffalo', ',', 'where', 'he', 'graduated', 'from', 'the', 'university', 'of', 'buffalo', '.', 'after', 'serving', 'in', 'the', 'air', 'force', ',', 'he', 'received', 'a', 'master', \"'s\", 'degree', 'from', 'stanford', '.', 'he', 'directed', 'more', 'than', 'a', 'dozen', 'television', 'movies', ',', 'including', '\"', 'seduced', 'by', 'madness', '\"', '(', 'qqq', ')', 'and', '\"', 'a', 'deadly', 'silence', '\"', '(', 'qqq', ')', '.', 'he', 'is', 'survived', 'by', 'his', 'companion', ',', 'andrea', 'oov', ';', 'a', 'daughter', ',', 'mary', ',', 'of', 'brooklyn', ';', 'a', 'son', ',', 'charlie', ',', 'of', 'oov', ',', 'calif.', ';', 'two', 'brothers', ',', 'charles', ',', 'of', 'jamestown', ',', 'n.y.', ',', 'and', 'james', ',', 'of', 'cleveland', 'heights', ',', 'ohio', ';', 'and', 'two', 'sisters', ',', 'mary', 'jo', ',', 'of', 'west', 'orange', ',', 'n.j.', ',', 'and', 'temple', 'oov', 'of', 'oov', ',', 'hawaii', '.', 'his', 'marriage', 'to', 'casey', 'kelley', 'ended', 'in', 'divorce', '.', '<end>']\n",
      "summary ['<start>', 'john', 'patterson', ',', 'television', 'director', 'whose', 'frequent', 'work', 'on', 'crime', 'shows', 'included', 'every', 'season', 'finale', 'of', 'the', 'sopranos', 'on', 'hbo', ',', 'dies', 'at', 'age', 'qqq', '(', 's', ')', '<end>']\n",
      "generated summary ['<start>', 'collection', 'of', 'all', 'usatoday.com', 'coverage', 'of', 'all', 'usatoday.com', 'coverage', 'of', 'all', 'usatoday.com', '<end>']\n",
      "tensor(1.2718, device='cuda:0', grad_fn=<SelectBackward>)\n"
     ]
    }
   ],
   "source": [
    "loss, summary_info = results[0]\n",
    "for i,indices in enumerate(summary_info[0]):\n",
    "    text, l = batch['text'][i], batch['text_length'][i]\n",
    "    print(\"text\", get_index_words(text[:l].numpy(), newsroom_dataset_train.words))\n",
    "    text, l = batch['summary'][i], batch['summary_length'][i]\n",
    "    print(\"summary\", get_index_words(text[:l].numpy(), newsroom_dataset_train.words))\n",
    "    print(\"generated summary\", get_index_words(indices[:summary_info[1][i]], newsroom_dataset_train.words))\n",
    "    print(loss[i])"
   ]
  },
  {
   "cell_type": "code",
   "execution_count": null,
   "metadata": {},
   "outputs": [],
   "source": []
  }
 ],
 "metadata": {
  "kernelspec": {
   "display_name": "Python 3",
   "language": "python",
   "name": "python3"
  },
  "language_info": {
   "codemirror_mode": {
    "name": "ipython",
    "version": 3
   },
   "file_extension": ".py",
   "mimetype": "text/x-python",
   "name": "python",
   "nbconvert_exporter": "python",
   "pygments_lexer": "ipython3",
   "version": "3.6.6"
  }
 },
 "nbformat": 4,
 "nbformat_minor": 2
}
