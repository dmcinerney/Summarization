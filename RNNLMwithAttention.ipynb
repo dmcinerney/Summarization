{
 "cells": [
  {
   "cell_type": "markdown",
   "metadata": {},
   "source": [
    "# Generator Model"
   ]
  },
  {
   "cell_type": "code",
   "execution_count": 24,
   "metadata": {},
   "outputs": [],
   "source": [
    "import torch\n",
    "from NewsroomHelper import get_newsroom_datasets\n",
    "from models import Summarizer\n",
    "from model_helpers import loss_function, error_function\n",
    "from utils import produce_attention_visualization_file, summarize, get_text_triplets, produce_summary_files, run_rouge\n",
    "from pytorch_helper import VariableBatchDataLoader, ModelManipulator, plot_learning_curves"
   ]
  },
  {
   "cell_type": "markdown",
   "metadata": {},
   "source": [
    "## Parameters"
   ]
  },
  {
   "cell_type": "code",
   "execution_count": 13,
   "metadata": {},
   "outputs": [
    {
     "name": "stdout",
     "output_type": "stream",
     "text": [
      "True\n"
     ]
    }
   ],
   "source": [
    "# training parameters\n",
    "BATCH_SIZE = 64\n",
    "NUM_EPOCHS = 1\n",
    "LEARNING_RATE = 1e-2\n",
    "# INITIAL_ACCUMULATOR_VALUE = 0.1\n",
    "GAMMA = 1\n",
    "USE_CUDA = torch.cuda.is_available()\n",
    "print(USE_CUDA)\n",
    "BEAM_SIZE = 4"
   ]
  },
  {
   "cell_type": "markdown",
   "metadata": {},
   "source": [
    "## Get Data"
   ]
  },
  {
   "cell_type": "code",
   "execution_count": 14,
   "metadata": {
    "scrolled": true
   },
   "outputs": [
    {
     "name": "stdout",
     "output_type": "stream",
     "text": [
      "11029 3676 3678\n",
      "retrieving word2vec model from file\n"
     ]
    }
   ],
   "source": [
    "# pico_dataset_train, pico_dataset_dev, pico_dataset_test = get_pico_datasets()\n",
    "newsroom_dataset_train, newsroom_dataset_dev, newsroom_dataset_test, preprocessor = get_newsroom_datasets()\n",
    "word_vectors = preprocessor.word_vectors\n",
    "start_index = preprocessor.word_indices['<start>']\n",
    "end_index = preprocessor.word_indices['<end>']"
   ]
  },
  {
   "cell_type": "markdown",
   "metadata": {},
   "source": [
    "## Create Model"
   ]
  },
  {
   "cell_type": "code",
   "execution_count": 15,
   "metadata": {},
   "outputs": [],
   "source": [
    "generator_model = Summarizer(preprocessor, start_index, end_index, num_hidden1=None, num_hidden2=None)"
   ]
  },
  {
   "cell_type": "markdown",
   "metadata": {},
   "source": [
    "## Train and Save Model"
   ]
  },
  {
   "cell_type": "code",
   "execution_count": 16,
   "metadata": {
    "scrolled": true
   },
   "outputs": [
    {
     "name": "stdout",
     "output_type": "stream",
     "text": [
      "epoch: 0, batch: 0, train_loss: 707.275513, train_error: None\n",
      "epoch: 0, batch: 10, train_loss: 515.430054, train_error: None\n",
      "epoch: 0, batch: 20, train_loss: 470.217834, train_error: None\n",
      "epoch: 0, batch: 30, train_loss: 454.169495, train_error: None\n",
      "epoch: 0, batch: 40, train_loss: 443.429871, train_error: None\n",
      "epoch: 0, batch: 50, train_loss: 443.787781, train_error: None\n",
      "epoch: 0, batch: 60, train_loss: 422.315582, train_error: None\n",
      "epoch: 0, batch: 70, train_loss: 429.262482, train_error: None\n",
      "epoch: 0, batch: 80, train_loss: 429.967377, train_error: None\n",
      "epoch: 0, batch: 90, train_loss: 413.983093, train_error: None\n",
      "epoch: 0, batch: 100, train_loss: 414.386414, train_error: None\n",
      "epoch: 0, batch: 110, train_loss: 407.835602, train_error: None\n",
      "epoch: 0, batch: 120, train_loss: 412.452728, train_error: None\n",
      "epoch: 0, batch: 130, train_loss: 394.479797, train_error: None\n",
      "epoch: 0, batch: 140, train_loss: 411.401672, train_error: None\n",
      "epoch: 0, batch: 150, train_loss: 396.672668, train_error: None\n",
      "epoch: 0, batch: 160, train_loss: 397.977173, train_error: None\n",
      "epoch: 0, batch: 170, train_loss: 392.605774, train_error: None\n",
      "1 epochs with 172 batches per epoch done\n"
     ]
    }
   ],
   "source": [
    "dataloader = VariableBatchDataLoader(newsroom_dataset_train, batch_size=BATCH_SIZE, shuffle=True)\n",
    "optimizer = torch.optim.Adam(generator_model.parameters(),\n",
    "                             lr=LEARNING_RATE)\n",
    "# optimizer = torch.optim.Adagrad((generator_model.cuda() if USE_CUDA else generator_model).parameters(),\n",
    "#                                 lr=LEARNING_RATE, initial_accumulator_value=INITIAL_ACCUMULATOR_VALUE)\n",
    "model_manip = ModelManipulator(generator_model, optimizer, loss_function, error_function, use_cuda=USE_CUDA)\n",
    "train_stats, val_stats = model_manip.train(dataloader, NUM_EPOCHS, dataset_val=newsroom_dataset_dev, stats_every=10, verbose_every=10)"
   ]
  },
  {
   "cell_type": "code",
   "execution_count": 17,
   "metadata": {},
   "outputs": [],
   "source": [
    "torch.save(generator_model, 'models/generator_temp.model')"
   ]
  },
  {
   "cell_type": "code",
   "execution_count": 18,
   "metadata": {},
   "outputs": [],
   "source": [
    "generator_model = torch.load('models/generator_temp.model')"
   ]
  },
  {
   "cell_type": "markdown",
   "metadata": {},
   "source": [
    "## Plot"
   ]
  },
  {
   "cell_type": "code",
   "execution_count": 19,
   "metadata": {},
   "outputs": [
    {
     "data": {
      "image/png": "[encoded data removed]",
      "text/plain": [
       "<Figure size 432x288 with 1 Axes>"
      ]
     },
     "metadata": {
      "needs_background": "light"
     },
     "output_type": "display_data"
    },
    {
     "data": {
      "image/png": "[encoded data removed]",
      "text/plain": [
       "<Figure size 432x288 with 1 Axes>"
      ]
     },
     "metadata": {
      "needs_background": "light"
     },
     "output_type": "display_data"
    }
   ],
   "source": [
    "plot_learning_curves(training_values=train_stats, validation_values=val_stats, figure_name='graphs/generator_training_temp')"
   ]
  },
  {
   "cell_type": "code",
   "execution_count": 20,
   "metadata": {},
   "outputs": [
    {
     "name": "stderr",
     "output_type": "stream",
     "text": [
      "/home/jered/Documents/Projects/Summarization/submodules.py:23: UserWarning: RNN module weights are not part of single contiguous chunk of memory. This means they need to be compacted at every call, possibly greatly increasing memory usage. To compact weights again call flatten_parameters().\n",
      "  output, (h, c) = self.lstm(x)\n"
     ]
    }
   ],
   "source": [
    "batch = newsroom_dataset_dev[0:5]\n",
    "results = summarize(batch, generator_model, beam_size=BEAM_SIZE)"
   ]
  },
  {
   "cell_type": "code",
   "execution_count": 21,
   "metadata": {},
   "outputs": [
    {
     "name": "stdout",
     "output_type": "stream",
     "text": [
      "text ['<start>', 'ray', 'watson', 'visits', 'bobbi', 'kristina', 'brown', \"'s\", 'atlanta', 'hospice', 'qqq', 'at', 'qqq', 'pm', 'edt', 'family', 'and', 'loved', 'ones', 'continue', 'to', 'flock', 'to', \"'s\", 'bedside', 'at', 'an', 'atlanta', '-', 'area', 'hospice', 'as', 'her', 'condition', 'deteriorates', '.', 'ray', 'watson', ',', 'the', 'former', 'bodyguard', 'of', 'bobbi', 'kristina', \"'s\", 'and', 'the', 'brother', 'of', 'the', 'qqq', '-', 'old', \"'s\", 'aunt', 'pat', 'houston', ',', 'was', 'spotted', 'arriving', 'at', 'the', 'hospice', 'on', 'thursday', '.', 'watson', ',', 'who', 'was', 'working', 'as', 'houston', \"'s\", 'bodyguard', 'when', 'she', 'at', 'the', 'beverly', 'hilton', ',', 'also', 'at', 'her', 'newark', ',', 'new', 'jersey', 'in', 'february', 'of', 'that', 'year', '.', 'bobbi', 'kristina', 'was', 'moved', 'to', 'hospice', 'care', 'last', 'week', 'as', 'she', 'has', 'remained', 'unresponsive', 'in', 'the', 'months', 'following', 'the', 'to', 'chicago', 'prior', 'to', 'the', 'move', ',', 'in', 'a', 'last', '-', 'ditch', 'effort', 'to', 'help', 'her', '.', 'pat', ',', 'who', 'serves', 'as', 'bobbi', 'kristina', \"'s\", 'legal', 'joint', '-', 'guardian', 'with', 'her', 'father', ',', 'bobby', 'brown', ',', 'made', 'the', 'decision', 'in', 'hopes', 'that', 'expert', 'evaluation', 'could', 'find', 'a', 'solution', '.', 'most', 'of', 'the', 'brown', 'and', 'houston', 'families', 'have', 'been', 'at', 'the', 'hospice', 'since', 'last', 'wednesday', '.', ',', 'a', 'longtime', 'friend', 'of', 'the', 'houston', 'family', ',', 'also', '.', 'the', 'star', 'has', 'been', 'aiding', 'bobby', 'since', 'the', 'incident', ',', 'and', 'even', 'lent', 'his', 'plane', 'to', 'the', 'singer', 'when', 'bobbi', 'kristina', 'was', 'first', 'hospitalized', '.', '<end>']\n",
      "reference summary ['<start>', 'watson', 'is', 'one', 'of', 'many', 'loved', 'ones', 'to', 'visit', 'the', 'qqq', '-', 'old', 'since', 'she', 'was', 'moved', 'to', 'hospice', 'care', 'last', 'week', '<end>']\n",
      "decoded summary ['<start>', 'the', 'qqq', '-', 'old', '-', 'old', '-', 'old', '-', 'old', '-', 'old', '-', 'old', '-', 'old', '-', 'old', '-', 'old', '-', 'old', '-', 'old', '-', 'old', '-', 'old', '-', 'old', '-', 'old', '-', 'old', '-', 'old', '-', 'old', '-', 'old', '-', 'old', '-', 'old', '-', 'old', '-', 'old', '-', 'old', '-', 'old', '-', 'old', '-', 'old', '-', 'old', '-', 'old', '-', 'old', '-', 'old', '-', 'old', '-', 'old', '-', 'old', '-', 'old', '-', 'old', '-', 'old', '-', 'old', '-', 'old', '-', 'old', '-', 'old', '-', 'old', '-', 'old', '-', 'old', '-', 'old', '-', 'old', '-', 'old', '-', 'old', '-', 'old', '-', 'old', '-', 'old', '-', 'old', '-', 'old', '-', 'old', '-', 'old', '-', 'old', '-', 'old', '-', 'old', '-', 'old', '-', 'old', '-', 'old', '-', 'old', '-', 'old', '-', 'old', '-', 'old', '-', 'old', '-', 'old', '-', 'old', '-', 'old', '-', 'old', '-', 'old', '-', 'old', '-', 'old', '-', 'old', '-', 'old', '-', 'old', '-', 'old', '-', 'old', '-', 'old', '-', 'old', '-', 'old', '-', 'old', '-', 'old', '-', 'old', '-', 'old', '-', 'old', '-', 'old', '-', 'old', '-', 'old', '-', 'old', '-', 'old', '-', 'old', '-', 'old', '-', 'old', '-', 'old', '-', 'old', '-', 'old', '-', 'old', '-', 'old', '-', 'old', '-', 'old', '-', 'old', '-', 'old', '-', 'old', '-', 'old', '-', 'old', '-', 'old', '-', 'old', '-', 'old', '-', 'old', '-', 'old', '-', 'old', '-', 'old', '-', 'old', '-', 'old', '-', 'old', '-', 'old', '-', 'old', '-', 'old', '-', 'old', '-', 'old', '-', 'old', '-', 'old', '-', 'old', '-', 'old', '-', 'old', '-', 'old', '-', 'old', '-', 'old', '-', 'old', '-', 'old', '-', 'old', '-', 'old', '-', 'old', '-', 'old', '-', 'old', '-', 'old', '-', 'old', '-', 'old', '-', 'old', '-', 'old', '-', 'old', '-', 'old', '-', 'old', '-', 'old', '-', 'old', '-', 'old', '-', 'old', '-']\n",
      "2.21697\n",
      "text ['<start>', 'from', 'chronicle', 'staff', 'writer', 'susan', 'slusser', 'at', 'oov', 'field', 'the', 'a', '’s', 'day', 'at', 'seattle', 'sort', 'of', 'sums', 'up', 'jonny', 'oov', 'year', ':', 'not', 'a', 'lot', 'of', 'hits', ',', 'but', 'a', 'lot', 'of', 'production', 'nonetheless', '.', 'oakland', 'recorded', 'five', 'hits', 'on', 'sunday', ',', 'but', 'one', 'was', 'a', 'three', '-', 'run', 'homer', 'by', 'gomes', 'that', 'provided', 'the', 'bulk', 'of', 'the', 'a', '’s', 'runs', 'in', 'a', 'qqq', '-', 'qqq', 'victory', ',', 'and', 'oakland', 'wrapped', 'up', 'a', 'three', '-', 'game', 'sweep', 'at', 'oov', 'field', '.', 'the', 'a', '’s', 'have', 'won', 'nine', 'road', 'games', 'in', 'a', 'row', ',', 'their', 'longest', 'such', 'streak', 'since', 'qqq', 'straight', 'in', 'qqq', 'during', 'the', 'al', 'record', 'qqq', 'winning', 'streak', '.', 'gomes', 'has', 'played', 'in', 'qqq', 'games', 'this', 'year', ',', 'and', 'he', 'has', 'hit', 'qqq', 'homers', 'and', 'driven', 'in', 'qqq', 'runs', '.', 'since', 'the', 'all', '-', 'star', 'break', ',', 'he', 'has', 'hit', 'qqq', 'with', 'eight', 'homers', 'and', 'qqq', 'homers', 'in', 'qqq', 'games', '.', 'josh', 'donaldson', 'added', 'a', 'solo', 'homer', 'in', 'the', 'ninth', ',', 'his', 'seventh', 'of', 'the', 'season', 'and', 'sixth', 'since', 'being', 'recalled', 'last', 'month', '.', 'oakland', '’s', 'pitching', 'was', ',', 'as', 'it', 'is', 'so', 'often', ',', 'superb', '.', 'starter', 'tommy', 'milone', 'was', 'at', 'his', 'best', 'when', 'the', 'mariners', 'threatened', ',', 'and', 'seattle', 'had', 'to', 'settle', 'for', 'solo', 'runs', 'in', 'the', 'fifth', '(', 'an', 'rbi', 'triple', 'by', 'michael', 'saunders', ')', 'and', 'the', 'sixth', '(', 'solo', 'homer', 'by', 'kyle', 'oov', ')', '.', 'milone', 'tied', 'the', 'oakland', 'rookie', 'record', 'for', 'wins', 'in', 'a', 'season', ',', 'with', 'qqq', '(', 'joe', 'blanton', ',', 'qqq', ';', 'chris', 'oov', ',', 'qqq', ')', 'and', 'also', 'tied', 'the', 'oakland', 'record', 'for', 'consecutive', 'starts', 'with', 'no', 'more', 'than', 'one', 'walk', ',', 'qqq', '(', 'gil', 'oov', ',', 'qqq', ')', '.', 'a', '’s', 'relievers', 'pat', 'oov', ',', 'jerry', 'oov', ',', 'ryan', 'cook', 'and', 'grant', 'balfour', 'worked', 'three', 'scoreless', 'innings', '.', 'josh', 'reddick', 'made', 'two', 'very', 'nice', 'catches', 'racing', 'in', 'at', 'full', 'speed', 'today', ',', 'the', 'second', 'with', 'a', 'runner', 'at', 'second', 'base', 'in', 'the', 'ninth', 'inning', 'to', 'rob', 'eric', 'thames', 'of', 'a', 'hit', '.', '<end>']\n",
      "reference summary ['<start>', 'oov', 'three', '-', 'run', 'blast', 'helps', 'a', '’s', 'sweep', 'seattle', '<end>']\n",
      "decoded summary ['<start>', 'collection', 'of', 'all', 'usatoday.com', 'coverage', 'of', 'all', 'usatoday.com', 'coverage', 'of', 'all', 'usatoday.com', 'coverage', 'of', 'all', 'usatoday.com', 'coverage', 'of', 'all', 'usatoday.com', 'coverage', '<end>']\n",
      "1.08304\n",
      "text ['<start>', 'in', 'the', 'united', 'states', ',', 'we', 'say', 'the', 'san', 'francisco', 'qqq', 'will', 'probably', 'annihilate', 'the', 'jacksonville', 'jaguars', 'on', 'sunday', 'at', 'wembley', 'stadium', '.', 'in', 'great', 'britain', ',', 'however', ',', 'where', 'such', 'matters', 'are', 'put', 'in', 'far', 'more', 'genteel', 'terms', ',', 'the', 'daily', 'mail', 'explained', 'to', 'its', 'readers', 'tuesday', 'that', 'the', 'qqq', '\"', 'are', 'much', 'fancied', 'to', 'beat', 'the', 'jaguars', 'this', 'weekend', '.', '\"', 'the', 'qqq', 'are', 'favored', 'by', 'qqq', 'qqq', 'points', 'over', 'the', 'hapless', 'jaguars', '(', 'qqq', '-', 'qqq', ')', ',', 'which', 'could', 'explain', 'why', 'the', 'british', 'press', 'gave', 'scant', 'coverage', 'to', 'the', 'qqq', \"'\", 'arrival', 'in', 'london', 'on', 'monday', '.', 'a', 'quick', 'scan', 'through', 'the', 'newspapers', 'at', 'heathrow', 'airport', 'revealed', 'only', 'a', 'few', 'paragraphs', 'about', 'the', 'upcoming', 'annihilation', ',', 'um', ',', 'game', '.', 'another', 'plausible', 'explanation', 'for', 'the', 'collective', 'media', 'yawn', ',', 'of', 'course', ',', 'is', 'that', 'nobody', 'gives', 'a', 'flip', 'about', 'an', 'nfl', 'game', 'five', 'days', 'away', 'when', 'arsenal', 'and', 'chelsea', 'both', 'played', 'real', 'football', 'tuesday', 'night', '.', 'by', 'the', 'way', ',', 'arsenal', 'lost', 'qqq', '-', 'qqq', 'to', 'dortmund', '(', 'germany', ')', 'on', 'a', 'goal', 'by', 'robert', 'lewandowski', 'in', 'the', 'qqq', 'minute', '.', 'i', 'do', \"n't\", 'know', 'much', 'about', 'champions', 'league', 'soccer', ',', 'but', 'i', 'do', 'know', 'this', 'about', 'the', 'passionate', 'crowd', 'at', 'the', 'portman', 'pub', 'and', 'restaurant', 'in', 'the', 'marble', 'arch', 'area', 'of', 'london', 'on', 'tuesday', ':', 'they', 'sure', 'did', \"n't\", 'fancy', 'that', 'bloody', 'loss', '.', '<end>']\n",
      "reference summary ['<start>', 'the', 'qqq', 'are', 'favored', 'by', 'qqq', 'qqq', 'points', 'over', 'the', 'hapless', 'jaguars', '(', 'qqq', '-', 'qqq', ')', ',', 'which', 'could', 'explain', 'why', 'the', 'british', 'press', 'gave', 'scant', 'coverage', 'to', 'the', 'qqq', \"'\", 'arrival', 'in', 'london', 'on', 'monday', '.', 'another', 'plausible', 'explanation', 'for', 'the', 'collective', 'media', 'yawn', ',', 'of', 'course', ',', 'is', 'that', 'nobody', 'gives', 'a', 'flip', 'about', 'an', 'nfl', 'game', 'five', 'days', 'away', 'when', 'arsenal', 'and', 'chelsea', 'both', 'played', 'real', 'football', 'tuesday', 'night', '.', '<end>']\n",
      "decoded summary ['<start>', 'collection', 'of', 'all', 'usatoday.com', 'coverage', 'of', 'all', 'usatoday.com', 'coverage', 'of', 'all', 'usatoday.com', 'coverage', 'of', 'all', 'usatoday.com', 'coverage', 'of', 'all', 'usatoday.com', 'coverage', 'of', 'all', 'usatoday.com', 'coverage', 'of', 'all', 'usatoday.com', 'coverage', '<end>']\n",
      "1.23013\n",
      "text ['<start>', 'former', 'nfl', 'tight', 'end', 'fred', 'davis', 'was', 'arrested', 'this', 'morning', 'for', 'assault', 'stemming', 'from', 'an', 'incident', 'where', 'he', 'allegedly', 'insulted', 'his', 'ex', '-', 'gf', \"'s\", 'flat', 'ass', '...', 'and', 'then', 'attacked', 'her', 'with', 'dirt', 'and', 'flowers', '.', 'as', 'we', 'previously', 'reported', ',', 'fred', \"'s\", 'ex', 'told', 'cops', 'the', 'qqq', '-', 'old', 'approached', 'her', 'at', 'a', 'restaurant', 'earlier', 'this', 'month', 'and', 'told', 'her', 'male', 'companion', ',', '\"', 'why', 'you', 'with', 'her', ',', 'she', 'does', \"n't\", 'have', 'an', 'oov', 'ex', '-', 'gf', 'claims', 'davis', 'then', 'threw', 'dirt', 'and', 'flowers', 'on', 'her', 'from', 'a', 'hanging', 'planter', '.', 'now', ',', 'we', \"'ve\", 'learned', '...', 'davis', 'was', 'arrested', 'early', 'thursday', 'morning', 'in', 'd.c.', 'and', 'charged', 'with', 'simple', 'assault', 'and', 'attempted', 'threats', 'to', 'do', 'bodily', 'harm', '.', 'davis', 'plead', 'not', 'guilty', 'to', 'both', 'charges', '...', 'and', 'was', 'eventually', 'released', 'on', 'his', 'own', 'recognizance', '.', 'story', 'developing', '...', '<end>']\n",
      "reference summary ['<start>', 'former', 'nfl', 'tight', 'end', 'fred', 'davis', 'was', 'arrested', 'this', 'morning', 'for', 'assault', 'stemming', 'from', 'an', 'incident', 'where', 'he', 'allegedly', 'insulted', 'his', 'ex', '-', 'gf', \"'s\", 'flat', 'ass', '...', '…', '<end>']\n",
      "decoded summary ['<start>', 'police', 'have', 'been', 'arrested', 'in', 'a', 'man', 'who', 'was', 'killed', 'in', 'the', 'hospital', '.', '<end>']\n",
      "2.07599\n",
      "text ['<start>', 'health', '&', 'human', 'services', '(', 'hhs', ')', 'secretary', 'kathleen', 'sebelius', '(', 'reuters', '/', 'jim', 'bourg', ')', 'on', 'tuesday', 'night', ',', 'health', 'and', 'human', 'services', 'secretary', 'kathleen', 'sebelius', 'admitted', 'that', 'president', 'obama', 'failed', 'to', 'oversee', 'the', 'rollout', 'of', 'his', 'signature', 'domestic', 'achievement', ',', 'the', 'affordable', 'care', 'act', '.', 'according', 'to', 'sebelius', ',', 'the', 'president', 'did', 'not', 'know', 'that', 'healthcare.gov', ',', 'obamacare', '’s', 'online', 'hub', ',', 'would', 'have', 'substantial', 'problems', 'on', 'its', 'oct.', 'qqq', 'launch', 'day', '.', 'and', ',', 'ezra', 'klein', 'reported', 'wednesday', 'morning', ',', 'neither', 'did', 'sebelius', '.', 'yesterday', ',', 'i', 'argued', 'that', 'the', 'fundamental', 'mistake', 'the', 'obama', 'administration', 'made', 'in', 'its', 'health', '-', 'care', 'web', 'site', 'rollout', 'was', 'failing', 'to', 'appreciate', 'that', 'the', 'oct.', 'qqq', 'unveiling', 'would', 'attract', 'massive', 'interest', 'from', 'the', 'moment', 'the', 'site', 'launched', '.', 'project', 'leaders', 'should', 'have', 'expected', 'very', 'high', 'web', 'site', 'loads', 'and', 'tough', 'scrutiny', '—', 'and', ',', 'most', 'importantly', ',', 'that', 'the', 'early', 'rollout', 'would', 'be', 'extremely', 'important', 'in', 'setting', 'public', 'impressions', 'of', 'how', 'the', 'new', 'system', 'is', 'working', '.', 'if', 'healthcare.gov', 'was', 'n’t', 'going', 'to', 'operate', 'well', ',', 'the', 'public', 'needed', 'to', 'hear', 'it', '.', 'well', ',', 'here', '’s', 'more', 'evidence', '.', 'klein', '’s', 'telling', 'has', 'it', 'that', 'low', '-', 'level', 'workers', 'withheld', 'negative', 'information', 'from', 'higher', 'ups', ',', 'making', 'it', 'harder', 'for', 'those', 'higher', 'ups', 'to', 'bring', 'in', 'more', 'help', ',', 'or', 'to', 'be', 'clear', 'with', 'the', 'public', 'before', 'and', 'during', 'the', 'launch', '.', 'but', 'this', 'was', 'n’t', 'just', 'any', 'other', 'policy', 'introduction', ',', 'in', 'which', 'that', 'excuse', 'might', 'wash', '.', 'healthcare.gov', 'is', 'the', 'first', 'visible', 'manifestation', 'of', 'a', 'law', 'that', 'has', 'dominated', 'american', 'politics', 'on', 'and', 'off', 'for', 'five', 'years', '.', 'and', ',', 'since', 'the', 'policy', 'relies', 'on', 'lots', 'of', 'people', 'signing', 'up', ',', 'bad', 'first', 'impressions', 'of', 'the', 'site', 'can', 'materially', 'hurt', 'the', 'system', 'the', 'law', 'aims', 'to', 'create', 'if', 'they', 'discourage', 'people', 'from', 'coming', 'back', '.', 'the', 'president', 'should', 'have', 'pressed', '.', 'he', 'should', 'have', 'tried', 'to', 'navigate', 'the', 'site', 'by', 'himself', ',', 'all', 'the', 'way', 'through', ',', 'before', 'oct.', 'qqq', '.', 'sebelius', 'should', 'have', 'tried', 'more', 'than', 'once', '.', 'after', 'they', 'got', 'nowhere', ',', 'they', 'should', 'have', 'been', 'honest', 'with', 'the', 'country', 'about', 'what', 'to', 'expect', '.', 'both', 'apparently', 'failed', 'that', 'basic', 'competency', 'test', '.', 'follow', 'stephen', 'oov', 'on', 'twitter', ':', 'oov', '<end>']\n",
      "reference summary ['<start>', 'both', 'of', 'them', 'should', 'have', 'pressed', 'harder', 'about', 'healthcare.gov', \"'s\", 'problems', '.', '<end>']\n",
      "decoded summary ['<start>', 'the', 'new', 'york', 'times', 'is', 'a', 'new', 'york', 'times', '.', '<end>']\n",
      "2.33425\n"
     ]
    }
   ],
   "source": [
    "summary_info = results[0]\n",
    "triplets = get_text_triplets(batch, summary_info, preprocessor)\n",
    "for i,(text, reference_summary, decoded_summary) in enumerate(triplets):\n",
    "    loss = summary_info[2][i]\n",
    "    print(\"text\", text)\n",
    "    print(\"reference summary\", reference_summary)\n",
    "    print(\"decoded summary\", decoded_summary)\n",
    "    print(loss)"
   ]
  },
  {
   "cell_type": "code",
   "execution_count": 22,
   "metadata": {},
   "outputs": [],
   "source": [
    "summary_info = results[0]\n",
    "i = 0\n",
    "\n",
    "triplets = get_text_triplets(batch, summary_info, preprocessor)\n",
    "\n",
    "text, decoded_summary, reference_summary = triplets[i]\n",
    "attentions, p_gens = [[float(f) for f in vector[1:-1]] for vector in summary_info[4][i][:-1]], [float(0) for j in range(len(decoded_summary)-1)]\n",
    "\n",
    "produce_attention_visualization_file('graphs/attn_vis_data.json', text, decoded_summary, \" \".join(reference_summary), attentions, p_gens)"
   ]
  },
  {
   "cell_type": "code",
   "execution_count": 25,
   "metadata": {},
   "outputs": [
    {
     "name": "stdout",
     "output_type": "stream",
     "text": [
      "0\n",
      "1\n",
      "2\n",
      "3\n",
      "4\n",
      "5\n",
      "6\n",
      "7\n",
      "8\n",
      "9\n"
     ]
    }
   ],
   "source": [
    "dataloader = VariableBatchDataLoader(newsroom_dataset_dev, batch_size=5, shuffle=True)\n",
    "produce_summary_files(dataloader, generator_model, \"rouge\", beam_size=BEAM_SIZE, max_num_batch=10)"
   ]
  },
  {
   "cell_type": "code",
   "execution_count": 27,
   "metadata": {},
   "outputs": [
    {
     "name": "stdout",
     "output_type": "stream",
     "text": [
      "2.3449 0.50367 3.29304\n"
     ]
    }
   ],
   "source": [
    "run_rouge()"
   ]
  },
  {
   "cell_type": "code",
   "execution_count": null,
   "metadata": {},
   "outputs": [],
   "source": []
  }
 ],
 "metadata": {
  "kernelspec": {
   "display_name": "Python 3",
   "language": "python",
   "name": "python3"
  },
  "language_info": {
   "codemirror_mode": {
    "name": "ipython",
    "version": 3
   },
   "file_extension": ".py",
   "mimetype": "text/x-python",
   "name": "python",
   "nbconvert_exporter": "python",
   "pygments_lexer": "ipython3",
   "version": "3.6.6"
  }
 },
 "nbformat": 4,
 "nbformat_minor": 2
}
