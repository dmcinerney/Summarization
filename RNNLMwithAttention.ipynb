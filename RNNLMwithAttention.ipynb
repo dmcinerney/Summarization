{
 "cells": [
  {
   "cell_type": "code",
   "execution_count": 1,
   "metadata": {},
   "outputs": [],
   "source": [
    "import torch\n",
    "from PICOHelper import get_pico_datasets\n",
    "from NewsroomHelper import get_newsroom_datasets\n",
    "from SummarizationModelStructures import GeneratorModel, loss_function, error_function\n",
    "from utils import get_index_words\n",
    "from pytorch_helper import VariableBatchDataLoader, ModelManipulator, plot_learning_curves"
   ]
  },
  {
   "cell_type": "markdown",
   "metadata": {},
   "source": [
    "# Parameters"
   ]
  },
  {
   "cell_type": "code",
   "execution_count": 2,
   "metadata": {},
   "outputs": [
    {
     "name": "stdout",
     "output_type": "stream",
     "text": [
      "True\n"
     ]
    }
   ],
   "source": [
    "# training parameters\n",
    "BATCH_SIZE = 64\n",
    "NUM_EPOCHS = 1\n",
    "LEARNING_RATE = 1e-2\n",
    "# INITIAL_ACCUMULATOR_VALUE = 0.1\n",
    "GAMMA = 1\n",
    "USE_CUDA = torch.cuda.is_available()\n",
    "print(USE_CUDA)"
   ]
  },
  {
   "cell_type": "markdown",
   "metadata": {},
   "source": [
    "# Get Data"
   ]
  },
  {
   "cell_type": "code",
   "execution_count": 3,
   "metadata": {
    "scrolled": true
   },
   "outputs": [
    {
     "name": "stdout",
     "output_type": "stream",
     "text": [
      "11029 3676 3678\n",
      "retrieving word2vec model from file\n"
     ]
    }
   ],
   "source": [
    "# pico_dataset_train, pico_dataset_dev, pico_dataset_test = get_pico_datasets()\n",
    "newsroom_dataset_train, newsroom_dataset_dev, newsroom_dataset_test = get_newsroom_datasets()\n",
    "word_vectors = newsroom_dataset_train.word_vectors\n",
    "start_index = newsroom_dataset_train.word_indices['<start>']\n",
    "end_index = newsroom_dataset_train.word_indices['<end>']"
   ]
  },
  {
   "cell_type": "markdown",
   "metadata": {},
   "source": [
    "# Create Model"
   ]
  },
  {
   "cell_type": "code",
   "execution_count": 4,
   "metadata": {},
   "outputs": [],
   "source": [
    "generator_model = GeneratorModel(word_vectors, start_index, end_index, num_hidden1=None, num_hidden2=None, with_coverage=False, gamma=GAMMA)"
   ]
  },
  {
   "cell_type": "markdown",
   "metadata": {},
   "source": [
    "# Train and Save Model"
   ]
  },
  {
   "cell_type": "code",
   "execution_count": 5,
   "metadata": {
    "scrolled": true
   },
   "outputs": [
    {
     "name": "stdout",
     "output_type": "stream",
     "text": [
      "epoch: 0, batch: 0, train_loss: 707.846497, train_error: None\n",
      "epoch: 0, batch: 10, train_loss: 502.225677, train_error: None\n",
      "epoch: 0, batch: 20, train_loss: 475.399200, train_error: None\n",
      "epoch: 0, batch: 30, train_loss: 460.594055, train_error: None\n",
      "epoch: 0, batch: 40, train_loss: 434.832886, train_error: None\n",
      "epoch: 0, batch: 50, train_loss: 435.671539, train_error: None\n",
      "epoch: 0, batch: 60, train_loss: 422.894531, train_error: None\n",
      "epoch: 0, batch: 70, train_loss: 426.136078, train_error: None\n",
      "epoch: 0, batch: 80, train_loss: 407.542236, train_error: None\n",
      "epoch: 0, batch: 90, train_loss: 411.458252, train_error: None\n",
      "epoch: 0, batch: 100, train_loss: 408.546051, train_error: None\n",
      "epoch: 0, batch: 110, train_loss: 404.048431, train_error: None\n",
      "epoch: 0, batch: 120, train_loss: 408.252289, train_error: None\n",
      "epoch: 0, batch: 130, train_loss: 408.191132, train_error: None\n",
      "epoch: 0, batch: 140, train_loss: 413.582611, train_error: None\n",
      "epoch: 0, batch: 150, train_loss: 411.623169, train_error: None\n",
      "epoch: 0, batch: 160, train_loss: 408.844910, train_error: None\n",
      "epoch: 0, batch: 170, train_loss: 392.306854, train_error: None\n",
      "1 epochs with 172 batches per epoch done\n"
     ]
    }
   ],
   "source": [
    "dataloader = VariableBatchDataLoader(newsroom_dataset_train, batch_size=BATCH_SIZE, shuffle=True)\n",
    "optimizer = torch.optim.Adam(generator_model.parameters(),\n",
    "                             lr=LEARNING_RATE)\n",
    "# optimizer = torch.optim.Adagrad((generator_model.cuda() if USE_CUDA else generator_model).parameters(),\n",
    "#                                 lr=LEARNING_RATE, initial_accumulator_value=INITIAL_ACCUMULATOR_VALUE)\n",
    "model_manip = ModelManipulator(generator_model, optimizer, loss_function, error_function, use_cuda=USE_CUDA)\n",
    "train_stats, val_stats = model_manip.train(dataloader, NUM_EPOCHS, dataset_val=newsroom_dataset_dev, stats_every=10, verbose_every=10)"
   ]
  },
  {
   "cell_type": "code",
   "execution_count": 6,
   "metadata": {},
   "outputs": [],
   "source": [
    "torch.save(generator_model, 'data/generator_test.model')"
   ]
  },
  {
   "cell_type": "code",
   "execution_count": 7,
   "metadata": {},
   "outputs": [],
   "source": [
    "generator_model = torch.load('data/generator_test.model')"
   ]
  },
  {
   "cell_type": "markdown",
   "metadata": {},
   "source": [
    "# Plot"
   ]
  },
  {
   "cell_type": "code",
   "execution_count": 8,
   "metadata": {},
   "outputs": [
    {
     "data": {
      "image/png": "[encoded data removed]",
      "text/plain": [
       "<Figure size 432x288 with 1 Axes>"
      ]
     },
     "metadata": {
      "needs_background": "light"
     },
     "output_type": "display_data"
    },
    {
     "data": {
      "image/png": "[encoded data removed]",
      "text/plain": [
       "<Figure size 432x288 with 1 Axes>"
      ]
     },
     "metadata": {
      "needs_background": "light"
     },
     "output_type": "display_data"
    }
   ],
   "source": [
    "plot_learning_curves(training_values=train_stats, validation_values=val_stats, figure_name='generator_training_test')"
   ]
  },
  {
   "cell_type": "code",
   "execution_count": 10,
   "metadata": {},
   "outputs": [
    {
     "name": "stderr",
     "output_type": "stream",
     "text": [
      "/home/jered/Documents/Projects/Summarization/SummarizationModelStructures.py:37: UserWarning: RNN module weights are not part of single contiguous chunk of memory. This means they need to be compacted at every call, possibly greatly increasing memory usage. To compact weights again call flatten_parameters().\n",
      "  output, (h, c) = self.lstm(x)\n"
     ]
    }
   ],
   "source": [
    "batch = newsroom_dataset_train[0:1]\n",
    "results = generator_model(batch['text'].cuda(), batch['text_length'].cuda(), beam_size=4)\n",
    "# generated_output = generator_model(batch['text'], batch['text_length'])"
   ]
  },
  {
   "cell_type": "code",
   "execution_count": 11,
   "metadata": {},
   "outputs": [
    {
     "name": "stdout",
     "output_type": "stream",
     "text": [
      "text ['<start>', 'tuesday', ',', 'march', 'qqq', ',', 'qqq', ',', 'qqq', 'pm', 'apple', \"'s\", 'ceo', 'tim', 'cook', 'finally', 'revealed', 'the', 'tech', 'specs', 'for', 'the', 'highly', 'anticipated', 'apple', 'watch', 'monday', 'in', 'san', 'francisco', ',', 'when', 'he', 'announced', 'the', 'smartwatch', 'will', 'begin', 'shipping', 'april', 'qqq', 'and', 'starts', 'at', '$', 'qqq', '.', 'the', 'apple', 'watch', 'will', 'come', 'in', 'two', 'different', 'retina', 'displays', ',', 'qqq', 'and', 'qqq', ',', 'and', 'it', \"'ll\", 'have', 'a', 'battery', 'that', 'lasts', 'up', 'to', 'qqq', 'hours', '.', 'the', 'watch', 'will', 'also', 'come', 'in', 'four', 'different', 'colors', 'and', 'three', 'different', 'models', ':', 'apple', 'watch', 'sport', ',', 'apple', 'watch', 'and', 'apple', 'watch', 'edition', '.', 'compared', 'to', 'other', 'watches', 'like', 'the', 'samsung', 'gear', 's', 'and', 'the', 'moto', 'qqq', ',', 'the', 'apple', 'watch', 'is', 'capable', 'of', 'doing', 'the', 'same', 'basic', 'things', 'such', 'as', 'receive', 'messages', 'and', 'calls', ',', 'feature', 'calendar', 'notifications', 'and', 'double', 'as', 'a', 'fitness', 'tracker', '.', 'apple', 'is', 'a', 'oov', 'in', 'the', 'smartwatch', 'competition', ',', 'but', 'it', \"'ll\", 'still', 'be', 'a', 'viable', 'competitor', 'in', 'the', 'market', 'since', 'the', 'apple', 'watch', 'is', 'specifically', 'tailored', 'for', 'iphone', 'users', '.', 'the', 'daily', 'news', 'created', 'an', 'infographic', 'that', 'highlights', 'all', 'smartwatches', \"'\", 'tech', 'specs', 'including', 'prices', ',', 'weight', ',', 'displays', 'and', 'battery', 'life', '—', 'which', 'may', 'vary', 'depending', 'on', 'use', '.', 'if', 'you', \"'re\", 'thinking', 'of', 'getting', 'a', 'smartwatch', ',', 'this', 'infographic', 'might', 'just', 'help', 'you', 'get', 'a', 'better', 'sense', 'of', 'your', 'options', '.', 'this', 'is', 'how', 'the', 'apple', 'watch', \"'s\", 'tech', 'specs', 'compare', 'to', 'other', 'smartwatches', ':', '<end>']\n",
      "summary ['<start>', 'the', 'daily', 'news', 'created', 'an', 'infographic', 'that', 'highlights', 'all', 'smartwatches', \"'\", 'tech', 'specs', ',', 'including', 'the', 'apple', 'watch', '.', '<end>']\n",
      "generated summary ['<start>', 'collection', 'of', 'all', 'usatoday.com', 'coverage', 'of', 'all', 'usatoday.com', 'coverage', 'of', 'qqq', '-', 'usatoday.com', '<end>']\n",
      "tensor(1.4748, device='cuda:0', grad_fn=<SelectBackward>)\n"
     ]
    }
   ],
   "source": [
    "loss, summary_info = results[0]\n",
    "for i,indices in enumerate(summary_info[0]):\n",
    "    text, l = batch['text'][i], batch['text_length'][i]\n",
    "    print(\"text\", get_index_words(text[:l].numpy(), newsroom_dataset_train.words))\n",
    "    text, l = batch['summary'][i], batch['summary_length'][i]\n",
    "    print(\"summary\", get_index_words(text[:l].numpy(), newsroom_dataset_train.words))\n",
    "    print(\"generated summary\", get_index_words(indices[:summary_info[1][i]], newsroom_dataset_train.words))\n",
    "    print(loss[i])"
   ]
  },
  {
   "cell_type": "code",
   "execution_count": null,
   "metadata": {},
   "outputs": [],
   "source": []
  }
 ],
 "metadata": {
  "kernelspec": {
   "display_name": "Python 3",
   "language": "python",
   "name": "python3"
  },
  "language_info": {
   "codemirror_mode": {
    "name": "ipython",
    "version": 3
   },
   "file_extension": ".py",
   "mimetype": "text/x-python",
   "name": "python",
   "nbconvert_exporter": "python",
   "pygments_lexer": "ipython3",
   "version": "3.6.6"
  }
 },
 "nbformat": 4,
 "nbformat_minor": 2
}
